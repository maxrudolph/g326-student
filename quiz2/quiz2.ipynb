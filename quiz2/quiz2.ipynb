{
 "cells": [
  {
   "cell_type": "markdown",
   "metadata": {
    "deletable": false,
    "editable": false,
    "nbgrader": {
     "checksum": "2c97e3a98c8175eace5eef347c64e1e9",
     "grade": false,
     "grade_id": "intro",
     "locked": true,
     "schema_version": 1,
     "solution": false
    }
   },
   "source": [
    "This week's quiz will have you make two plots in a short amount of time (**10 minutes**). The quiz is open book/notes/internet.\n",
    "\n",
    "**Plot 1:**\n",
    "1. Plot the function $f(t) = \\sin(t)$ over the interval $-2\\pi \\le t \\le 2\\pi$.\n",
    "2. On the same plot, plot the function $g(t) = \\cos(3 t)$ over the same interval.\n",
    "3. Add a legend identifying each curve.\n",
    "4. Label the horizontal axis 't' and the vertical axis 'y'.\n",
    "5. Ensure that the scaling of the two axes is equal (i.e. the distance occupied by 1 unit on the x-axis is equal to the distance occupied by 1 unit on the y-axis.\n"
   ]
  },
  {
   "cell_type": "code",
   "execution_count": null,
   "metadata": {
    "deletable": false,
    "editable": true,
    "nbgrader": {
     "checksum": "f096c48071b439acd1d3dd9a68235ac9",
     "grade": true,
     "grade_id": "q1",
     "locked": false,
     "points": 10,
     "schema_version": 1,
     "solution": true
    }
   },
   "outputs": [],
   "source": [
    "# YOUR CODE HERE\n",
    "raise NotImplementedError()"
   ]
  },
  {
   "cell_type": "markdown",
   "metadata": {
    "deletable": false,
    "editable": false,
    "nbgrader": {
     "checksum": "704a5a383ed311c4b8570aa73fac1bc8",
     "grade": false,
     "grade_id": "prob2",
     "locked": true,
     "schema_version": 1,
     "solution": false
    }
   },
   "source": [
    "Now, make a parametric plot using the same functions f(x) and g(x), over the same range of $t$ used in the previous part. The plot should remind you of something that you may have seen in physics classes called Lissajous figures.\n",
    "\n",
    "\n",
    "1. Plot f(t) on the horizontal axis and g(t) on the vertical axis.\n",
    "2. Label the horizontal axis 'f(t)' and the vertical axis 'g(t)'.\n",
    "3. Add a text annotation indicating the points on the plot associated with $t=-2\\pi$, $t=0$ and $t=2\\pi$. The annotation should indicate the value of the parameter 't'\n",
    "3. Again make sure that the axes are 'equal'."
   ]
  },
  {
   "cell_type": "code",
   "execution_count": null,
   "metadata": {
    "deletable": false,
    "nbgrader": {
     "checksum": "21aa9a276271e81edf5af35b9a58bfb3",
     "grade": true,
     "grade_id": "prob2a",
     "locked": false,
     "points": 8,
     "schema_version": 1,
     "solution": true
    }
   },
   "outputs": [],
   "source": [
    "# YOUR CODE HERE\n",
    "raise NotImplementedError()"
   ]
  },
  {
   "cell_type": "code",
   "execution_count": null,
   "metadata": {},
   "outputs": [],
   "source": []
  }
 ],
 "metadata": {
  "kernelspec": {
   "display_name": "Python [default]",
   "language": "python",
   "name": "python3"
  },
  "language_info": {
   "codemirror_mode": {
    "name": "ipython",
    "version": 3
   },
   "file_extension": ".py",
   "mimetype": "text/x-python",
   "name": "python",
   "nbconvert_exporter": "python",
   "pygments_lexer": "ipython3",
   "version": "3.5.3"
  }
 },
 "nbformat": 4,
 "nbformat_minor": 2
}
