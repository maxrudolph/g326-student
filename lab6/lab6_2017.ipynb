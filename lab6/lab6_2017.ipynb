{
 "cells": [
  {
   "cell_type": "markdown",
   "metadata": {
    "deletable": false,
    "editable": false,
    "nbgrader": {
     "checksum": "0049982d8bf4eb7e7a9d785cf642ef80",
     "grade": false,
     "grade_id": "intro",
     "locked": true,
     "schema_version": 1,
     "solution": false
    }
   },
   "source": [
    "# Introduction\n",
    "\n",
    "\n",
    "This week's lab focuses on steady-state solutions to the diffusion equation in one spatial dimension. Like the decay equation that you worked with last week, the diffusion equation is a differential equation, but unlike the decay equation, the diffusion equation is a second order partial differential equation (in general) that can be reduced to a second order ordinary differential equation in the special case of steady-state, one-dimensional diffusion. The equation that we'll be solving has the general form:\n",
    "\n",
    "**Equation 1:**\n",
    "$$\n",
    "-\\frac{\\partial }{\\partial x}\\left(-k \\frac{\\partial u}{\\partial x}\\right) +Q=0  \n",
    "$$\n",
    "\n",
    "In the above equation, $u$ is the dependent variable representing the quantity that is diffusing (e.g. temperature, the concentration of a chemical compound, or hydraulic head), $x$ is a spatial coordinate, and $Q$ represents any sources or sinks of the diffusing quantity (for instance production of heat by radioactivity within a planet or creation/destruction of a chemical compound through reaction). Because the diffusion equation is a second-order differential equation, it requires *two* boundary conditions. Because there is no time-dependence (more on that next week), we do not need to specify initial conditions.\n",
    "\n",
    "Like previous exercises, we will obtain a discrete solution to the equation at a series of points. However, rather than being points in time, these are now points in space. We'll find the solution at a number (`nx`) of points. We will use subscripts to refer to these points:\n",
    "$$\n",
    "\\underline{x} = \\left[x_0,x_1,\\dots,x_{nx-1}\\right]^T\n",
    "$$\n",
    "Note the presence of the transpose symbol $^T$ - in this week's exercise, $\\underline{x}$ and $\\underline{u}$ are column vectors.\n",
    "\n",
    "![Figure 1](grid.png)\n",
    "\n",
    "**Figure 1**: *Grid on which numerical solution will be obtained, showing points at which $T$ and $dq/dx$ are evaluated and points at which $q(x)$ is evaluated. The formulas give the coordinates $xc_i$ of the points at which $q(x)$ is evaluated (the midpoint of each interval between points $x_i$).*\n",
    "\n",
    "Our goal is to obtain a solution $\\underline{u}$ that is a vector containing the values ($u_i$) of our numerical solution to equation Equation 1 at each point $x_i$. First, recall that\n",
    "\n",
    "$$\n",
    "q(x) = -k\\frac{\\partial u}{\\partial x}\n",
    "$$\n",
    "\n",
    "The first step in constructing our finite difference approximation to $u(x)$ is to construct a finite-difference approximation to $q(x)$ at the points $xc_{i-1}$ (the midpoint between $x_{i-1}$ and $x_i$) and $xc_{i}$ (the midpoint between $x_{i}$ and $x_{i+1}$). These points are shown graphically in Figure 1.\n",
    "\n",
    "**Equation 2:**\n",
    "$$\n",
    "\\begin{split}\n",
    "q\\bigg|_{x=xc_{i-1}} = -k \\frac{u_i-u_{i-1}}{x_i-x_{i-1}}\\\\\n",
    "q\\bigg|_{x=xc_{i}} = -k \\frac{u_{i+1}-u_{i}}{x_{i+1}-x_{i}}\n",
    "\\end{split}\n",
    "$$\n",
    "\n",
    "The second step in constructing our finite difference approximation to $u(x)$ is to write an approximation to $-\\frac{\\partial q(x)}{\\partial x}$ at the point $x_i$:\n",
    "\n",
    "**Equation 3**\n",
    "$$\n",
    "\\left. \\frac{\\partial q}{\\partial x}\\right\\rvert_{x=x_i} = \\frac{q( xc_i ) - q( xc_{i-1} )}{xc_i-xc_{i-1}}\n",
    "$$\n",
    "\n",
    "Finally, we can substitute equation Equation 2 into Equation 3 to obtain an expression involving $u$:\n",
    "$$\n",
    "\\left. -\\frac{\\partial}{\\partial x}\\left(-k \\frac{\\partial u}{\\partial x} \\right) \\right\\rvert_{x=x_i} = \\frac{-1}{xc_i-xc_{i-1}}\\left( -k \\frac{u_{i+1}-u_{i}}{x_{i+1}-x_{i}} - \\left(-k \\frac{u_i-u_{i-1}}{x_i-x_{i-1}}\\right)\\right)\n",
    "$$\n",
    "The above expression can be used to obtain a numerical approximation to the solution $u(x)$ on a grid with arbitrary spacing. For the special case where the grid spacing is uniform and equal to $h$ (that is, $x_i=x_{i-1} + \\Delta x$), we can simplify the previous equation to:\n",
    "\n",
    "$$\n",
    "\\left. -\\frac{\\partial}{\\partial x}\\left(-k \\frac{\\partial u}{\\partial x} \\right) \\right\\rvert_{x=x_i} = \\frac{-1}{\\Delta x}\\left( -k \\frac{u_{i+1}-u_{i}}{\\Delta x} - \\left(-k \\frac{u_i-u_{i-1}}{\\Delta x}\\right)\\right)=\\frac{k}{(\\Delta x)^2}\\left( u_{i+1} - 2 u_i + u_{i-1} \\right)\n",
    "$$\n",
    "\n",
    "Thus, our approximation to equation 1 for the special case with uniform grid spacing becomes:\n",
    "\n",
    "$$\n",
    "\\frac{k}{(\\Delta x)^2}\\left(u_{i-1}-2 u_{i}+u_{i+1}\\right) + Q_i = 0\n",
    "$$\n",
    "\n",
    "Note that this equation involves the value of the solution at the $i$-th point as well as its immediate neighbors to the left and right. If there are $nx$ grid points, the above finite difference approximation leads to $nx$ equations for $u_i$. For instance, for $i=2$, we have:\n",
    "\n",
    "$$\n",
    "\\frac{k}{(\\Delta x)^2}\\left(u_{1}-2 u_{2}+u_{3}\\right) + Q_i = 0\n",
    "$$\n",
    "\n",
    "and for $i=3$, we have:\n",
    "\n",
    "$$\n",
    "\\frac{k}{(\\Delta x)^2}\\left(u_{2}-2 u_{3}+u_{4}\\right) + Q_i = 0\n",
    "%\\frac{u_{2}-2 u_{3}+u_{4}}{h^2} + Q_i = 0\n",
    "$$\n",
    "\n",
    "Note that in the above equations for $i=2$ and $i=3$, $u_2$ appears in both equations. This suggests that we will have to solve the system of equations simultaneously for all values of $u_i$. The way that we do this is to construct a matrix holding the coefficients for each equation. We'll address the first and last rows of this matrix later, but the entries that in the 2nd-through (nx-1)-th rows look like this:\n",
    "$$\\underline{\\underline{D}}=\n",
    "\\begin{pmatrix}\n",
    "D_{0,0} & D_{0,1} & 0 & 0 & \\cdots & 0 &0  & 0\\\\\n",
    "k/(\\Delta x)^2 & -2k/(\\Delta x)^2 & k/(\\Delta x)^2  &0  &\\cdots & 0 & 0 & 0\\\\\n",
    "0 & k/(\\Delta x)^2 & -2k/(\\Delta x)^2 & k/(\\Delta x)^2   &\\cdots & 0 & 0 & 0\\\\\n",
    "\\vdots & \\vdots & \\vdots & \\vdots & \\ddots& \\vdots & \\vdots & \\vdots \\\\\n",
    "0 & 0 & 0 & 0 & \\cdots & k/(\\Delta x)^2 & -2k/(\\Delta x)^2 & k/(\\Delta x)^2 \\\\\n",
    "0 & 0 & 0 & 0 & \\cdots & 0 & D_{nx-1,nx-2} & D_{nx-1,nx}\n",
    "\\end{pmatrix}\n",
    "$$\n",
    "Note that if we factor out the term $1/(\\Delta x)^2$ from the matrix $\\underline{\\underline{D}}$, we are left with:\n",
    "$$\n",
    "\\underline{\\underline{D}}=\\frac{k}{(\\Delta x)^2}\n",
    "\\begin{pmatrix}\n",
    "\\frac{\\Delta x^2}{k}D_{0,0} & \\frac{\\Delta x^2}{k}D_{0,1} & 0 & 0 & \\cdots & 0 &0  & 0\\\\\n",
    "1 & -2 & 1  &0  &\\cdots & 0 & 0 & 0\\\\\n",
    "0 & 1 & -2 & 1   &\\cdots & 0 & 0 & 0\\\\\n",
    "\\vdots & \\vdots & \\vdots & \\vdots & \\ddots& \\vdots & \\vdots & \\vdots \\\\\n",
    "0 & 0 & 0 & 0 & \\cdots & 1 & -2 & 1 \\\\\n",
    "0 & 0 & 0 & 0 & \\cdots & 0 & \\frac{\\Delta x^2}{k}D_{nx-1,nx-2} & \\frac{\\Delta x^2}{k}D_{nx-1,nx-1}\n",
    "\\end{pmatrix} %= \\frac{k}{(\\Delta x)^2} \\underline{\\underline{L}}(nx)\n",
    "$$"
   ]
  },
  {
   "cell_type": "markdown",
   "metadata": {
    "collapsed": true,
    "deletable": false,
    "editable": false,
    "nbgrader": {
     "checksum": "0b0cfcc1daa16e570c24b6f1bf929175",
     "grade": false,
     "grade_id": "intro2",
     "locked": true,
     "schema_version": 1,
     "solution": false
    }
   },
   "source": [
    "We will solve the steady-state diffusion of heat with a source term:\n",
    "$$\n",
    "k \\frac{\\partial^2 T}{\\partial x^2} + H = 0\n",
    "$$\n",
    "Subject to the boundary conditions\n",
    "$$\n",
    "\\begin{split}\n",
    " T\\bigg|_{x=0 \\mathrm{ m}} = 288 \\mathrm{K}\\\\\n",
    " T\\bigg|_{x=100 \\mathrm{ m}} = 295 \\mathrm{K}\\\\\n",
    " \\end{split}\n",
    "$$\n",
    "on the domain\n",
    "$$\n",
    "0 \\mathrm{ m} \\le x \\le 100 \\mathrm{ m}\n",
    "$$\n",
    "\n",
    "We will use the value $k=2$ W/m/K and $H = 0.01$ W/m$^3$"
   ]
  },
  {
   "cell_type": "markdown",
   "metadata": {
    "deletable": false,
    "editable": false,
    "nbgrader": {
     "checksum": "a00543f615b500fb381327dca04bfa97",
     "grade": false,
     "grade_id": "intro3",
     "locked": true,
     "schema_version": 1,
     "solution": false
    }
   },
   "source": [
    "**Question 1** What is the solution to this equation subject to the boundary conditions listed above? (show your work)"
   ]
  },
  {
   "cell_type": "markdown",
   "metadata": {
    "deletable": false,
    "nbgrader": {
     "checksum": "a7cbafabeea37e1f54c2ef0fbe09ed74",
     "grade": true,
     "grade_id": "response1",
     "locked": false,
     "points": 4,
     "schema_version": 1,
     "solution": true
    }
   },
   "source": [
    "YOUR ANSWER HERE"
   ]
  },
  {
   "cell_type": "markdown",
   "metadata": {
    "deletable": false,
    "editable": false,
    "nbgrader": {
     "checksum": "642c144eb614c986915dd21b44dfe0bd",
     "grade": false,
     "grade_id": "i4",
     "locked": true,
     "schema_version": 1,
     "solution": false
    }
   },
   "source": [
    "**Question 2:** Define a variable representing the number of grid points `nx` at which we would like to obtain a solution. \n",
    "1. For now you can set nx=10. \n",
    "2. Create a vector `x` containing the values of $\\underline{x}$ at each grid point.\n",
    "3. Define the grid spacing `dx`.\n",
    "4. Create a column vector of zeros with dimensions $nx\\times 1$ called `R` (right hand side).\n",
    "5. Define the constants H (internal heating) and k (thermal conductivity)\n"
   ]
  },
  {
   "cell_type": "code",
   "execution_count": null,
   "metadata": {
    "deletable": false,
    "nbgrader": {
     "checksum": "e7d57717711ab91bf34f810c619be3a6",
     "grade": true,
     "grade_id": "sol1",
     "locked": false,
     "points": 3,
     "schema_version": 1,
     "solution": true
    }
   },
   "outputs": [],
   "source": [
    "# YOUR CODE HERE\n",
    "raise NotImplementedError()"
   ]
  },
  {
   "cell_type": "code",
   "execution_count": null,
   "metadata": {
    "deletable": false,
    "editable": false,
    "nbgrader": {
     "checksum": "16fbe26d53f4285007941d3541c85cda",
     "grade": true,
     "grade_id": "test1",
     "locked": true,
     "points": 2,
     "schema_version": 1,
     "solution": false
    }
   },
   "outputs": [],
   "source": [
    "assert(R.shape == (nx,1))\n",
    "assert(nx == 10)\n",
    "assert(dx == x[1]-x[0])\n",
    "assert(x[0]==0.0)\n",
    "assert(x[-1]==100.0)"
   ]
  },
  {
   "cell_type": "markdown",
   "metadata": {
    "deletable": false,
    "editable": false,
    "nbgrader": {
     "checksum": "dc541c35bf6194f2457ec05543e1de7e",
     "grade": false,
     "grade_id": "i5",
     "locked": true,
     "schema_version": 1,
     "solution": false
    }
   },
   "source": [
    "**Question 3:** List the non-zero entries $D_{i,j}$ for row $nx-2$ of the matrix $\\underline{\\underline{D}}$:"
   ]
  },
  {
   "cell_type": "markdown",
   "metadata": {
    "deletable": false,
    "nbgrader": {
     "checksum": "b29e8ba0b1460130bff1d45f8c0aff62",
     "grade": true,
     "grade_id": "sol2",
     "locked": false,
     "points": 2,
     "schema_version": 1,
     "solution": true
    }
   },
   "source": [
    "YOUR ANSWER HERE"
   ]
  },
  {
   "cell_type": "markdown",
   "metadata": {
    "deletable": false,
    "editable": false,
    "nbgrader": {
     "checksum": "5b143512914c98b500c01f01b72b96f4",
     "grade": false,
     "grade_id": "i6",
     "locked": true,
     "schema_version": 1,
     "solution": false
    }
   },
   "source": [
    "**Question 5** What is the significance of the first row of D and the last row of D? Hint: What is special about the first and last values $T_0$ and $T_{nx-1}$?"
   ]
  },
  {
   "cell_type": "markdown",
   "metadata": {
    "deletable": false,
    "nbgrader": {
     "checksum": "d0432295c9ddeaca26af88fe79968750",
     "grade": true,
     "grade_id": "sol3",
     "locked": false,
     "points": 2,
     "schema_version": 1,
     "solution": true
    }
   },
   "source": [
    "YOUR ANSWER HERE"
   ]
  },
  {
   "cell_type": "markdown",
   "metadata": {
    "deletable": false,
    "editable": false,
    "nbgrader": {
     "checksum": "16dd2c9afb12fdb3f252d7e8160ead78",
     "grade": false,
     "grade_id": "i7",
     "locked": true,
     "schema_version": 1,
     "solution": false
    }
   },
   "source": [
    "**Question 6** What will the first and last rows of the left-hand-side matrix $\\underline{\\underline{D}}$ and the right hand side vector $\\underline{R}$ look like? Describe very clearly in words and/or use markdown."
   ]
  },
  {
   "cell_type": "markdown",
   "metadata": {
    "deletable": false,
    "nbgrader": {
     "checksum": "33bb618d26c6671b47b339439d524f3f",
     "grade": true,
     "grade_id": "sol4",
     "locked": false,
     "points": 2,
     "schema_version": 1,
     "solution": true
    }
   },
   "source": [
    "YOUR ANSWER HERE"
   ]
  },
  {
   "cell_type": "markdown",
   "metadata": {
    "deletable": false,
    "editable": false,
    "nbgrader": {
     "checksum": "77d20130866940a422a52b73947824d9",
     "grade": false,
     "grade_id": "i8",
     "locked": true,
     "schema_version": 1,
     "solution": false
    }
   },
   "source": [
    "**Question 7** Add code to construct the diffusion matrix $\\underline{\\underline{D}}$. The easiest way to do this is to first use a `for' loop to populate rows 1 through (nx-2) with the appropriate entries, as described in class. Then, add a couple of lines of code to change the first and last rows of D to enforce the boundary conditions as you worked out in the previous step. To implement the boundary conditions, you may also need to change the first and/or last entries in the vector $\\underline{R}$."
   ]
  },
  {
   "cell_type": "code",
   "execution_count": null,
   "metadata": {
    "deletable": false,
    "nbgrader": {
     "checksum": "4572f6bbaee50f7df37126ab8bf85eae",
     "grade": true,
     "grade_id": "sol5",
     "locked": false,
     "points": 5,
     "schema_version": 1,
     "solution": true
    }
   },
   "outputs": [],
   "source": [
    "# YOUR CODE HERE\n",
    "raise NotImplementedError()"
   ]
  },
  {
   "cell_type": "code",
   "execution_count": null,
   "metadata": {
    "deletable": false,
    "editable": false,
    "nbgrader": {
     "checksum": "88d13c91e25153690a296add5624db73",
     "grade": true,
     "grade_id": "test5",
     "locked": true,
     "points": 3,
     "schema_version": 1,
     "solution": false
    }
   },
   "outputs": [],
   "source": [
    "assert( R[0] == 288.0 )\n",
    "assert( R[-1] == 295.0 )\n",
    "assert( (D[0][1:]==0).all() )\n",
    "assert( (D[-1][:-1]==0).all() )"
   ]
  },
  {
   "cell_type": "markdown",
   "metadata": {
    "deletable": false,
    "editable": false,
    "nbgrader": {
     "checksum": "a845a4d665eae3a7da58e3610fa08bb7",
     "grade": false,
     "grade_id": "i9",
     "locked": true,
     "schema_version": 1,
     "solution": false
    }
   },
   "source": [
    "**Question 8** Obtain a solution for T by solving the linear system $\\underline{\\underline{D}}\\ \\underline{T}=\\underline{R}$. Hint: remember that there routine in `numpy.linalg` for solving linear systems."
   ]
  },
  {
   "cell_type": "code",
   "execution_count": null,
   "metadata": {
    "deletable": false,
    "nbgrader": {
     "checksum": "f2d2143c7b5f93ce21745f2fb22c4b8d",
     "grade": true,
     "grade_id": "sol6",
     "locked": false,
     "points": 2,
     "schema_version": 1,
     "solution": true
    }
   },
   "outputs": [],
   "source": [
    "# YOUR CODE HERE\n",
    "raise NotImplementedError()"
   ]
  },
  {
   "cell_type": "code",
   "execution_count": null,
   "metadata": {
    "deletable": false,
    "editable": false,
    "nbgrader": {
     "checksum": "83e0f38aaab459c04caeb24d252061f5",
     "grade": true,
     "grade_id": "test6",
     "locked": true,
     "points": 4,
     "schema_version": 1,
     "solution": false
    }
   },
   "outputs": [],
   "source": [
    "assert( np.isclose(T[0] ,288.0) )\n",
    "assert( np.isclose(T[-1],295.0) )\n",
    "assert( np.isclose(T[5],298.0617284) )"
   ]
  },
  {
   "cell_type": "markdown",
   "metadata": {
    "deletable": false,
    "editable": false,
    "nbgrader": {
     "checksum": "aa8c1cd923b4b3209e5d0822f7892927",
     "grade": false,
     "grade_id": "i10",
     "locked": true,
     "schema_version": 1,
     "solution": false
    }
   },
   "source": [
    "**Question 9** Make a plot showing x on the horizontal axis, and your numerical solution T as well as the analytic solution that you worked out above. Make sure to choose line types and colors so that both solutions can be seen and include a legend and axis labels with units."
   ]
  },
  {
   "cell_type": "code",
   "execution_count": null,
   "metadata": {
    "deletable": false,
    "nbgrader": {
     "checksum": "8c8bcd30c8c3dc199c52dc5602d35001",
     "grade": true,
     "grade_id": "sol7",
     "locked": false,
     "points": 5,
     "schema_version": 1,
     "solution": true
    }
   },
   "outputs": [],
   "source": [
    "# YOUR CODE HERE\n",
    "raise NotImplementedError()"
   ]
  },
  {
   "cell_type": "markdown",
   "metadata": {
    "deletable": false,
    "editable": false,
    "nbgrader": {
     "checksum": "cfacc3a06e45960a343bb3e6b19b44c4",
     "grade": false,
     "grade_id": "i11",
     "locked": true,
     "schema_version": 1,
     "solution": false
    }
   },
   "source": [
    "**Question 10** Write some code to calculate and display the heat flux (in W/m^2) at the left boundary (x=0) and at the right boundary (x=100 m) by using your numerical solution and a finite difference approximation to the derivative of temperature with respect to x."
   ]
  },
  {
   "cell_type": "code",
   "execution_count": null,
   "metadata": {
    "deletable": false,
    "nbgrader": {
     "checksum": "c84fe0ea9a470aaf2bb2b91202e1df62",
     "grade": true,
     "grade_id": "sol8",
     "locked": false,
     "points": 4,
     "schema_version": 1,
     "solution": true
    }
   },
   "outputs": [],
   "source": [
    "# YOUR CODE HERE\n",
    "raise NotImplementedError()"
   ]
  },
  {
   "cell_type": "markdown",
   "metadata": {
    "deletable": false,
    "editable": false,
    "nbgrader": {
     "checksum": "dfda4fd877ba6f57861e4fd0f45f6808",
     "grade": false,
     "grade_id": "i12",
     "locked": true,
     "schema_version": 1,
     "solution": false
    }
   },
   "source": [
    "**Question 11** Use Fourier's law and your analytic solution to calculate the heat flux at the boundaries. How close is your numerical approximation?"
   ]
  },
  {
   "cell_type": "markdown",
   "metadata": {
    "deletable": false,
    "nbgrader": {
     "checksum": "73c3c1fd730737fbb5b4067f29ad23c0",
     "grade": true,
     "grade_id": "sol9",
     "locked": false,
     "points": 4,
     "schema_version": 1,
     "solution": true
    }
   },
   "source": [
    "YOUR ANSWER HERE"
   ]
  }
 ],
 "metadata": {
  "kernelspec": {
   "display_name": "Python 3",
   "language": "python",
   "name": "python3"
  },
  "language_info": {
   "codemirror_mode": {
    "name": "ipython",
    "version": 3
   },
   "file_extension": ".py",
   "mimetype": "text/x-python",
   "name": "python",
   "nbconvert_exporter": "python",
   "pygments_lexer": "ipython3",
   "version": "3.5.3"
  }
 },
 "nbformat": 4,
 "nbformat_minor": 2
}
