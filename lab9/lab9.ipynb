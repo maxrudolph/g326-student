{
 "cells": [
  {
   "cell_type": "markdown",
   "metadata": {
    "deletable": false,
    "editable": false,
    "nbgrader": {
     "checksum": "5afd4f8abf83a3f6c10beb5aa9d076db",
     "grade": false,
     "grade_id": "intro",
     "locked": true,
     "schema_version": 1,
     "solution": false
    }
   },
   "source": [
    "**DUE TUESDAY JUNE 6 BY 2 PM**\n",
    "\n",
    "**Due to the rapidly approaching end of the quarter, late work will not be accepted.**\n",
    "\n",
    "\n",
    "This week we'll explore one final class of problem that results in a different kind of differential equation from those that you've seen previously. As you may recall, we have so far in this course solved decay equations, diffusion equations, and advection-diffusion equations. Another important class of equation occurs frequently in seismology and also in the study of oceanic and atmospheric waves. The elastic wave equation for vertically-traveling shear waves in which the displacement $u$ occurs only in the $x$-direction is:\n",
    "$$\n",
    "\\rho \\frac{\\partial^2 u}{\\partial t^2} = \\frac{\\partial}{\\partial z}\\left(\\mu \\frac{\\partial u}{\\partial z}\\right)\\mathrm{         (1)}\n",
    "$$\n",
    "where $\\rho$ is density and $\\mu$ is an elastic modulus (material property) called the ``shear modulus''. Note that this looks similar to the advection equation except that instead of having first derivatives in space and time, we have second derivatives in both space and time. This equation describes the displacement $u$ of a particle as a function of both position $z$ and time $t$.\n"
   ]
  },
  {
   "cell_type": "markdown",
   "metadata": {
    "deletable": false,
    "editable": false,
    "nbgrader": {
     "checksum": "4652db6774b23ad038b9cadff6bcda76",
     "grade": false,
     "grade_id": "q1",
     "locked": true,
     "schema_version": 1,
     "solution": false
    }
   },
   "source": [
    "How many initial and boundary conditions are necessary to solve Equation 1? Explain your reasoning or show how you reached this conclusion:\n"
   ]
  },
  {
   "cell_type": "markdown",
   "metadata": {
    "deletable": false,
    "editable": true,
    "nbgrader": {
     "checksum": "b2ba26ba1ebb78233d5cbaaaafa8701c",
     "grade": true,
     "grade_id": "a1",
     "locked": false,
     "points": 4,
     "schema_version": 1,
     "solution": true
    }
   },
   "source": [
    "YOUR ANSWER HERE"
   ]
  },
  {
   "cell_type": "markdown",
   "metadata": {
    "deletable": false,
    "editable": false,
    "nbgrader": {
     "checksum": "2eb7d7f283d8c1ef40c7699041c90efc",
     "grade": false,
     "grade_id": "q2",
     "locked": true,
     "schema_version": 1,
     "solution": false
    }
   },
   "source": [
    "What are the units of $\\mu$ in Equation 1? Show your work."
   ]
  },
  {
   "cell_type": "markdown",
   "metadata": {
    "deletable": false,
    "editable": true,
    "nbgrader": {
     "checksum": "32a71f88c77a8710e5a22bf61b0e7490",
     "grade": true,
     "grade_id": "a2",
     "locked": false,
     "points": 2,
     "schema_version": 1,
     "solution": true
    }
   },
   "source": [
    "YOUR ANSWER HERE"
   ]
  },
  {
   "cell_type": "markdown",
   "metadata": {
    "deletable": false,
    "editable": false,
    "nbgrader": {
     "checksum": "8bfe97da77c0b23ebb3735c0f317a3fe",
     "grade": false,
     "grade_id": "q3",
     "locked": true,
     "schema_version": 1,
     "solution": false
    }
   },
   "source": [
    " What are the units of $\\mu/\\rho$ in Equation 1? What is the physical significance of this quantity? (show your work)"
   ]
  },
  {
   "cell_type": "markdown",
   "metadata": {
    "deletable": false,
    "editable": true,
    "nbgrader": {
     "checksum": "7e10dc81b9612dc964d22c72fb30c786",
     "grade": true,
     "grade_id": "a3",
     "locked": false,
     "points": 4,
     "schema_version": 1,
     "solution": true
    }
   },
   "source": [
    "YOUR ANSWER HERE"
   ]
  },
  {
   "cell_type": "markdown",
   "metadata": {
    "deletable": false,
    "editable": false,
    "nbgrader": {
     "checksum": "8dc30e09bb956c454f0060000d747da3",
     "grade": false,
     "grade_id": "q4",
     "locked": true,
     "schema_version": 1,
     "solution": false
    }
   },
   "source": [
    "Use centered differences in space and in time to write down a finite-difference approximation to equation 1."
   ]
  },
  {
   "cell_type": "markdown",
   "metadata": {
    "deletable": false,
    "editable": true,
    "nbgrader": {
     "checksum": "ddca4923d1ad59839cdfa3e07f978072",
     "grade": true,
     "grade_id": "a4",
     "locked": false,
     "points": 4,
     "schema_version": 1,
     "solution": true
    }
   },
   "source": [
    "YOUR ANSWER HERE"
   ]
  },
  {
   "cell_type": "markdown",
   "metadata": {
    "deletable": false,
    "editable": false,
    "nbgrader": {
     "checksum": "f74caef8a0498b0a8a904be2ca7a974b",
     "grade": false,
     "grade_id": "q5",
     "locked": true,
     "schema_version": 1,
     "solution": false
    }
   },
   "source": [
    "Write a computer program to solve Equation 1 in the domain $0\\le z \\le 1 km$ using the finite-difference formula that you worked out in the previous step. Implement boundary conditions that satisfy zero shear stress ($\\tau_{xz}=\\mu\\frac{\\partial u}{\\partial z}$) at the surface (this is called a free-surface boundary condition) and a prescribed displacement at $z=1 km$ with the following functional form:\n",
    "$$\n",
    "u(z,t)\\bigg|_{z=1\\text{ km}} = \n",
    "\\begin{cases}\n",
    "0.1\\cdot t & t < 1 s\\ \\\\\n",
    "0.1 - 0.1\\cdot (t-1)  & 1 \\le t < 2 s \\\\\n",
    "0 & t \\ge 2 s\n",
    "\\end{cases}\n",
    "$$\n",
    "You can assume that the material in the domain has a uniform value of the shear modulus equal to $0.4\\cdot10^9$ Pa and a uniform density of 2000 kg/m$^3$. These values are typical of sandstone."
   ]
  },
  {
   "cell_type": "code",
   "execution_count": null,
   "metadata": {
    "deletable": false,
    "editable": true,
    "nbgrader": {
     "checksum": "e4360d75b830f6937005ecf76e79e691",
     "grade": true,
     "grade_id": "code1",
     "locked": false,
     "points": 15,
     "schema_version": 1,
     "solution": true
    }
   },
   "outputs": [],
   "source": [
    "# YOUR CODE HERE\n",
    "raise NotImplementedError()\n"
   ]
  },
  {
   "cell_type": "markdown",
   "metadata": {
    "deletable": false,
    "editable": false,
    "nbgrader": {
     "checksum": "2e8312c22f5aba06dcd4f636ec2f940c",
     "grade": false,
     "grade_id": "q6",
     "locked": true,
     "schema_version": 1,
     "solution": false
    }
   },
   "source": [
    "How long does it take for the disturbance at depth to propagate to the surface? How long did you expect it to take based on your previous insight into the physical meaning of the quantity $\\mu/\\rho$?"
   ]
  },
  {
   "cell_type": "markdown",
   "metadata": {
    "deletable": false,
    "editable": true,
    "nbgrader": {
     "checksum": "fe386ee653bb48f84bb3a16266c0c084",
     "grade": true,
     "grade_id": "a6",
     "locked": false,
     "points": 4,
     "schema_version": 1,
     "solution": true
    }
   },
   "source": [
    "YOUR ANSWER HERE"
   ]
  },
  {
   "cell_type": "markdown",
   "metadata": {
    "deletable": false,
    "editable": false,
    "nbgrader": {
     "checksum": "b14c83dfb1cd1c811507561959072f5e",
     "grade": false,
     "grade_id": "maxdisp",
     "locked": true,
     "schema_version": 1,
     "solution": false
    }
   },
   "source": [
    "What is the maximum value of the surface displacement? When does the maximum value occur? Try varying the amplitude of the input motion and come up with a quantitative relationship between the amplitude of the input motion and the maximum amplitude of the surface motion."
   ]
  },
  {
   "cell_type": "markdown",
   "metadata": {
    "deletable": false,
    "editable": true,
    "nbgrader": {
     "checksum": "6af9157699a817c73769659531897858",
     "grade": true,
     "grade_id": "maxdispans",
     "locked": false,
     "points": 6,
     "schema_version": 1,
     "solution": true
    }
   },
   "source": [
    "YOUR ANSWER HERE"
   ]
  },
  {
   "cell_type": "markdown",
   "metadata": {
    "deletable": false,
    "editable": false,
    "nbgrader": {
     "checksum": "ae5d63eed1f8e55c9153299ff06dab48",
     "grade": false,
     "grade_id": "tplotq",
     "locked": true,
     "schema_version": 1,
     "solution": false
    }
   },
   "source": [
    "Make a plot that shows the surface displacement vs. time. On the same plot (and with a distinct line style), plot the displacement at 100 m depth as a function of time."
   ]
  },
  {
   "cell_type": "code",
   "execution_count": null,
   "metadata": {
    "deletable": false,
    "editable": true,
    "nbgrader": {
     "checksum": "7314e82b764334dcf5310f1666811dc6",
     "grade": true,
     "grade_id": "tplot",
     "locked": false,
     "points": 5,
     "schema_version": 1,
     "solution": true
    }
   },
   "outputs": [],
   "source": [
    "# YOUR CODE HERE\n",
    "raise NotImplementedError()"
   ]
  },
  {
   "cell_type": "markdown",
   "metadata": {
    "deletable": false,
    "editable": false,
    "nbgrader": {
     "checksum": "9fa890b0579c2eee349d82831fdb5c04",
     "grade": false,
     "grade_id": "bonus1",
     "locked": true,
     "schema_version": 1,
     "solution": false
    }
   },
   "source": [
    "**Bonus 1.** Make a movie showing the propagation of the wave. Choose an appropriate size, frame rate and compression settings so that your movie looks good. Make sure that the axis limits remain constant and don't jump around. Hint: [https://matplotlib.org/examples/animation/basic_example.html]. To display the movie in jupyter, see the instructions here [http://louistiao.me/posts/notebooks/embedding-matplotlib-animations-in-jupyter-notebooks/]"
   ]
  },
  {
   "cell_type": "code",
   "execution_count": null,
   "metadata": {
    "deletable": false,
    "editable": true,
    "nbgrader": {
     "checksum": "3ea0ce0960f6df1aa347afff9e6aa7fa",
     "grade": true,
     "grade_id": "bonus1a",
     "locked": false,
     "points": 10,
     "schema_version": 1,
     "solution": true
    }
   },
   "outputs": [],
   "source": [
    "# YOUR CODE HERE\n",
    "raise NotImplementedError()"
   ]
  },
  {
   "cell_type": "markdown",
   "metadata": {
    "deletable": false,
    "editable": false,
    "nbgrader": {
     "checksum": "6853273ae33bb16cb5e17243b1772d2d",
     "grade": false,
     "grade_id": "bonus2",
     "locked": true,
     "schema_version": 1,
     "solution": false
    }
   },
   "source": [
    "**Bonus 2** Include material heterogeneity - use representative values of density and shear modulus for basalt for the region deeper than 500 m and use representative values of density and shear modulus for clay-rich soil for the region shallower than 500 m. What happens to the amplitude of the wave as it passes through the interface between basalt and sand? What happens to the maximum amplitude of the surface motion? *You will need to use a slightly more complex finite difference approximation for this part. Talk to the instructors about how to approach it.*"
   ]
  },
  {
   "cell_type": "code",
   "execution_count": null,
   "metadata": {
    "deletable": false,
    "editable": true,
    "nbgrader": {
     "checksum": "8f8e4ff584b666023134eead3a0da2a9",
     "grade": true,
     "grade_id": "bonus2a",
     "locked": false,
     "points": 10,
     "schema_version": 1,
     "solution": true
    }
   },
   "outputs": [],
   "source": [
    "# YOUR CODE HERE\n",
    "raise NotImplementedError()"
   ]
  }
 ],
 "metadata": {
  "kernelspec": {
   "display_name": "Python 3",
   "language": "python",
   "name": "python3"
  },
  "language_info": {
   "codemirror_mode": {
    "name": "ipython",
    "version": 3
   },
   "file_extension": ".py",
   "mimetype": "text/x-python",
   "name": "python",
   "nbconvert_exporter": "python",
   "pygments_lexer": "ipython3",
   "version": "3.5.2"
  }
 },
 "nbformat": 4,
 "nbformat_minor": 2
}
