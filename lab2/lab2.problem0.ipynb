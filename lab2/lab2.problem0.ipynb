{
 "cells": [
  {
   "cell_type": "markdown",
   "metadata": {
    "deletable": false,
    "editable": false,
    "nbgrader": {
     "checksum": "e098f004bfae15a40d55f480a3cfc186",
     "grade": false,
     "grade_id": "title",
     "locked": true,
     "schema_version": 1,
     "solution": false
    }
   },
   "source": [
    "# G326: Numerical Modeling of Earth Systems\n",
    "# Lab 2: Exponential growth/decay equations and U/Pb dating\n",
    "\n",
    "This week's lab does not have any auto-graded answers. Instead, you will have to enter your responses as code and Markdown. Using Markdown, you can make properly-formatted mathematical symbols and equations. \n",
    "\n",
    "You can find information about formatting text using Markdown here: https://help.github.com/articles/basic-writing-and-formatting-syntax/\n",
    "\n",
    "You can find information about formatting equations using LaTeX here: http://mathlab.cit.cornell.edu/support/latex/sample/sample.pdf\n",
    "\n",
    "To display an equation, you typically enclose the equation in dollar signs, like so:\n",
    "\n",
    "entering `$y=\\frac{a}{b}+x$` results in the equation: $y=\\frac{a}{b}+x$\n",
    "\n",
    "entering `$^{238}$U` results in the text: $^{238}$U"
   ]
  },
  {
   "cell_type": "markdown",
   "metadata": {
    "deletable": false,
    "editable": false,
    "nbgrader": {
     "checksum": "741d6be59df9ae585de3f6fac323d8f9",
     "grade": false,
     "grade_id": "intro",
     "locked": true,
     "schema_version": 1,
     "solution": false
    }
   },
   "source": [
    "# Introduction\n",
    "Radiometric dating allows us to determine the age of a rock sample, contingent upon certain assumptions, as well as the precise and accurate determination of isotopic ratios in rock samples combined with decay constants for all relevant nuclides. One of the best- established dating schemes relies upon the existence of multiple long-lived isotopes of Uranium hosted in the mineral Zircon (ZrSiO4 in a tetragonal crystal structure). Zircon is a commonly occurring trace mineral in silicic igneous rocks. Because of the multiple decay chains, intermediate products, and daughter products in the U system, multiple dating schemes are possible, but one such scheme relies on the decay of 238U to 206Pb with half-life 4.47 billion years and the separate decay chain of 235U to 207Pb with half- life 704 million years. Note that both of these decay chains are complex, involving multiple nuclear reactions with different mechanisms (e.g. alpha and beta decay).\n",
    "\n",
    "A general form of the radioactive decay equation is:\n",
    "\n",
    "$\n",
    "\\frac{d N}{d t}=-\\lambda N\n",
    "$\n",
    "\n",
    "where $N$ is the number of atoms and $\\lambda$ is a decay constant. In the above equation, it is assumed that there is no production of atoms and that the only way atoms can leave the system is by being lost due to radioactive decay.\n",
    "\n",
    "You will develop a model to describe the evolution of the ratios of $^{238}$U/$^{206}$Pb and $^{235U}$/$^{207}$Pb. Conceptually, your model is a “box” containing a single zircon crystal. The crystal contains an initial number N0 of Uranium atoms. Of these Uranium atoms, 99.27% are $^{238}U$ and 0.72% are $^{235}U$ (these are the natural abundances on Earth). You can assume that the crystal initially contains no lead."
   ]
  },
  {
   "cell_type": "markdown",
   "metadata": {
    "deletable": false,
    "editable": false,
    "nbgrader": {
     "checksum": "77c915af211319a1d13b97b02b5ef0ea",
     "grade": false,
     "grade_id": "part1",
     "locked": true,
     "schema_version": 1,
     "solution": false
    }
   },
   "source": [
    "# Part 1\n",
    "For each of the four isotopes $^{235}$U, $^{238}$U, $^{207}$Pb, and $^{206}$Pb, write a statement of balance in words describing the number of atoms of each isotope. *Hint:* don’t forget to think about where the lead is coming from."
   ]
  },
  {
   "cell_type": "markdown",
   "metadata": {
    "deletable": false,
    "editable": true,
    "nbgrader": {
     "checksum": "7c0720d804fb829fcdd445178c156b07",
     "grade": true,
     "grade_id": "balance",
     "locked": false,
     "points": 2,
     "schema_version": 1,
     "solution": true
    }
   },
   "source": [
    "YOUR ANSWER HERE"
   ]
  },
  {
   "cell_type": "markdown",
   "metadata": {
    "deletable": false,
    "editable": false,
    "nbgrader": {
     "checksum": "ab2b9264868d7a77fe36bc11f1c879b2",
     "grade": false,
     "grade_id": "part2",
     "locked": true,
     "schema_version": 1,
     "solution": false
    }
   },
   "source": [
    "# Part 2\n",
    "For each of the four isotopes, translate your statement of balance from words to symbols to obtain equations similar to Equation 1. Write down the complete set of initial conditions. This set of four differential equations and four initial conditions constitutes a mathematical description of your model."
   ]
  },
  {
   "cell_type": "markdown",
   "metadata": {
    "deletable": false,
    "editable": true,
    "nbgrader": {
     "checksum": "33731cc7917a6c3cd1dca6b37ca3e595",
     "grade": true,
     "grade_id": "bal_sym",
     "locked": false,
     "points": 4,
     "schema_version": 1,
     "solution": true
    }
   },
   "source": [
    "YOUR ANSWER HERE"
   ]
  },
  {
   "cell_type": "markdown",
   "metadata": {
    "deletable": false,
    "editable": false,
    "nbgrader": {
     "checksum": "867324877e75f90701717ae39b4f5a15",
     "grade": false,
     "grade_id": "eqns",
     "locked": true,
     "schema_version": 1,
     "solution": false
    }
   },
   "source": [
    "# Part 3\n",
    "Solve each of the equations to obtain an expression for the number of atoms of each isotope as a function of time. **Show your work.**"
   ]
  },
  {
   "cell_type": "markdown",
   "metadata": {
    "deletable": false,
    "editable": true,
    "nbgrader": {
     "checksum": "d1dc9e7fe0dc7acd551f3ff35619e67d",
     "grade": true,
     "grade_id": "eqns_ans",
     "locked": false,
     "points": 4,
     "schema_version": 1,
     "solution": true
    }
   },
   "source": [
    "YOUR ANSWER HERE"
   ]
  },
  {
   "cell_type": "markdown",
   "metadata": {
    "deletable": false,
    "editable": false,
    "nbgrader": {
     "checksum": "91b4678a6e47f3037ed3ace846db840a",
     "grade": false,
     "grade_id": "ratios",
     "locked": true,
     "schema_version": 1,
     "solution": false
    }
   },
   "source": [
    "# Part 4\n",
    "Write two equations describing the variation of the isotopic ratios $^{206}$Pb/$^{238}$U and $^{207}$Pb/$^{235}$U."
   ]
  },
  {
   "cell_type": "markdown",
   "metadata": {
    "deletable": false,
    "editable": true,
    "nbgrader": {
     "checksum": "967790b8431ab66c6ef16c434c44f139",
     "grade": true,
     "grade_id": "ratios_ans",
     "locked": false,
     "points": 2,
     "schema_version": 1,
     "solution": true
    }
   },
   "source": [
    "YOUR ANSWER HERE"
   ]
  },
  {
   "cell_type": "markdown",
   "metadata": {
    "deletable": false,
    "editable": false,
    "nbgrader": {
     "checksum": "aecb33d32c70e351de3bc35c52bbb5ee",
     "grade": false,
     "grade_id": "part5",
     "locked": true,
     "schema_version": 1,
     "solution": false
    }
   },
   "source": [
    "# Part 5\n",
    "Now, make a plot showing the ratio of $^{207}$Pb/$^{235}$U on the horizontal axis and $^{206}$Pb/$^{238}$U on the vertical axis. Plot a curve (called a Concordia) showing how each of the isotopic ratios evolves for samples between t=0 and t=5 Gyr. Note that Gyr means “billions of years” in this context. Use symbols and appropriate plot annotations to indicate ratios corresponding to 0,1,2,3,4, and 5 Gyr. This type of plot is known as a Concordia diagram."
   ]
  },
  {
   "cell_type": "code",
   "execution_count": null,
   "metadata": {
    "deletable": false,
    "editable": true,
    "nbgrader": {
     "checksum": "1742ec9a99b8992f195fd2d58d0ec7fb",
     "grade": true,
     "grade_id": "part5_ans",
     "locked": false,
     "points": 6,
     "schema_version": 1,
     "solution": true
    }
   },
   "outputs": [],
   "source": [
    "# YOUR CODE HERE\n",
    "raise NotImplementedError()"
   ]
  },
  {
   "cell_type": "markdown",
   "metadata": {
    "deletable": false,
    "editable": false,
    "nbgrader": {
     "checksum": "999f7a2a329a440f47e3f509cdeb248f",
     "grade": false,
     "grade_id": "dating",
     "locked": true,
     "schema_version": 1,
     "solution": false
    }
   },
   "source": [
    "# Part 6\n",
    "Isotopic ratio measurements for some samples of lunar basalts are given below. Add these to your plot from part (5) using distinct colors and symbols.\n",
    "\n",
    "\n",
    "\n",
    "|Sample Number|$^{207}$Pb/$^{235}$U|$^{206}$Pb/$^{238}$U|\n",
    "|-------------|----------|----------|\n",
    "| 1 | 94.682 | 1.0898 |\n",
    "| 2 | 96.702 | 1.0447 |\n",
    "\n",
    "** How old are these rocks? Make sure to explain how you reached this conclusion. Include an uncertainty estimate.**"
   ]
  },
  {
   "cell_type": "markdown",
   "metadata": {
    "deletable": false,
    "editable": true,
    "nbgrader": {
     "checksum": "d04877a8a564bec49ccee14890a76d7b",
     "grade": true,
     "grade_id": "age_ans",
     "locked": false,
     "points": 3,
     "schema_version": 1,
     "solution": true
    }
   },
   "source": [
    "YOUR ANSWER HERE"
   ]
  },
  {
   "cell_type": "markdown",
   "metadata": {
    "deletable": false,
    "editable": false,
    "nbgrader": {
     "checksum": "974456ae77c0bc14b6c5ce87d8667cf0",
     "grade": false,
     "grade_id": "part7",
     "locked": true,
     "schema_version": 1,
     "solution": false
    }
   },
   "source": [
    "# Part 7\n",
    "What, if any, assumptions and approximations did you make in developing your model of the U/Pb system in Zircon?"
   ]
  },
  {
   "cell_type": "markdown",
   "metadata": {
    "deletable": false,
    "editable": true,
    "nbgrader": {
     "checksum": "01a9dd389ed460dfdb80bdd2530f761d",
     "grade": true,
     "grade_id": "part7_ans",
     "locked": false,
     "points": 2,
     "schema_version": 1,
     "solution": true
    }
   },
   "source": [
    "YOUR ANSWER HERE"
   ]
  },
  {
   "cell_type": "markdown",
   "metadata": {
    "deletable": false,
    "editable": false,
    "nbgrader": {
     "checksum": "edfb36e6904c25e39611a06ed04274e3",
     "grade": false,
     "grade_id": "part8",
     "locked": true,
     "schema_version": 1,
     "solution": false
    }
   },
   "source": [
    "# BONUS Part 8\n",
    "Chemical processes act on elements, not isotopes (in general). How would your model be affected by a lead loss event? To explore this idea, make another Concordia diagram on which you plot the isotopic ratios vs. time for a special case in which 50% of the lead in the crystal is instantaneously removed after 1 billion years. Use the first box (Markdown) to explain your solution and the second box to enter code to produce the updated Concordia Diagram."
   ]
  },
  {
   "cell_type": "markdown",
   "metadata": {
    "deletable": false,
    "editable": true,
    "nbgrader": {
     "checksum": "79a760ac2200d0db2a4c87e4685784c2",
     "grade": true,
     "grade_id": "bonus_markdown",
     "locked": false,
     "points": 3,
     "schema_version": 1,
     "solution": true
    }
   },
   "source": [
    "YOUR ANSWER HERE"
   ]
  },
  {
   "cell_type": "code",
   "execution_count": null,
   "metadata": {
    "deletable": false,
    "editable": true,
    "nbgrader": {
     "checksum": "385a7e3a5bd29b606f67b98a4adcfc94",
     "grade": true,
     "grade_id": "bonus_code",
     "locked": false,
     "points": 3,
     "schema_version": 1,
     "solution": true
    }
   },
   "outputs": [],
   "source": [
    "# YOUR CODE HERE\n",
    "raise NotImplementedError()"
   ]
  }
 ],
 "metadata": {
  "kernelspec": {
   "display_name": "Python [conda root]",
   "language": "python",
   "name": "conda-root-py"
  },
  "language_info": {
   "codemirror_mode": {
    "name": "ipython",
    "version": 3
   },
   "file_extension": ".py",
   "mimetype": "text/x-python",
   "name": "python",
   "nbconvert_exporter": "python",
   "pygments_lexer": "ipython3",
   "version": "3.5.3"
  }
 },
 "nbformat": 4,
 "nbformat_minor": 2
}
