{
 "cells": [
  {
   "cell_type": "markdown",
   "metadata": {
    "deletable": false,
    "editable": false,
    "nbgrader": {
     "checksum": "42af91dfb87d154059553dad7ee450bc",
     "grade": false,
     "grade_id": "intro",
     "locked": true,
     "schema_version": 1,
     "solution": false
    }
   },
   "source": [
    "# Lab Final Problem 1\n",
    "\n",
    "Write a python function (not a script) called ‘myfact’ to calculate n! (the factorial of n). As a reminder, the factorial of an integer n is defined as:\n",
    "\n",
    "i.e., n! is the product of all of the integers from 1 to n.\n",
    "\n",
    "You must use a ‘for’ or ‘while’ loop somewhere in your code to receive full credit. Your function should take a single integer argument (n) and return a single integer value (the factorial of n). Note that n is a scalar, not a vector. For instance, if I call your function as myfact(5), it should return `5*4*3*2*1 = 120`. Bonus: Make your function raise a ValueError() if n is not an integer or if n < 1."
   ]
  },
  {
   "cell_type": "code",
   "execution_count": null,
   "metadata": {
    "deletable": false,
    "nbgrader": {
     "checksum": "02714f4aaf5e8fe1e1774ce4ad7763cb",
     "grade": true,
     "grade_id": "answer",
     "locked": false,
     "points": 6,
     "schema_version": 1,
     "solution": true
    }
   },
   "outputs": [],
   "source": [
    "# YOUR CODE HERE\n",
    "raise NotImplementedError()"
   ]
  },
  {
   "cell_type": "code",
   "execution_count": null,
   "metadata": {
    "deletable": false,
    "editable": false,
    "nbgrader": {
     "checksum": "c1fd662e1fcb0a65a9513fec2e92ee4e",
     "grade": true,
     "grade_id": "tests",
     "locked": true,
     "points": 3,
     "schema_version": 1,
     "solution": false
    }
   },
   "outputs": [],
   "source": [
    "# autograder tests\n",
    "assert( myfact(1) == 1)\n",
    "assert( myfact(5) == 120)\n",
    "assert( myfact(10) == 3628800)"
   ]
  }
 ],
 "metadata": {
  "kernelspec": {
   "display_name": "Python [default]",
   "language": "python",
   "name": "python3"
  },
  "language_info": {
   "codemirror_mode": {
    "name": "ipython",
    "version": 3
   },
   "file_extension": ".py",
   "mimetype": "text/x-python",
   "name": "python",
   "nbconvert_exporter": "python",
   "pygments_lexer": "ipython3",
   "version": "3.5.3"
  }
 },
 "nbformat": 4,
 "nbformat_minor": 2
}
