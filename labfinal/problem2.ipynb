{
 "cells": [
  {
   "cell_type": "markdown",
   "metadata": {
    "deletable": false,
    "editable": false,
    "nbgrader": {
     "checksum": "b3896e9cf5c2d332cd5e043222e5e91b",
     "grade": false,
     "grade_id": "intro",
     "locked": true,
     "schema_version": 1,
     "solution": false
    }
   },
   "source": [
    "# Problem 2\n",
    "\n",
    "This problem may look somewhat familiar from your midterm.\n",
    "\n",
    "Potassium-40 ($^{40}$K) is radiogenic and K/Ar dating uses this parent nuclide and its daughters to determine the age of igneous rocks. When it decays, 11% of the $^{40}$K atoms decay into Argon-39 ($^{39}$Ar) with a half-life of $1.248\\cdot10^9$ years, but 89% of the $^{40}$K atoms decay in to $^{40}$Ca."
   ]
  },
  {
   "cell_type": "markdown",
   "metadata": {
    "deletable": false,
    "editable": false,
    "nbgrader": {
     "checksum": "cda3c02ac52b4247b7bd66010a73a641",
     "grade": false,
     "grade_id": "q1",
     "locked": true,
     "schema_version": 1,
     "solution": false
    }
   },
   "source": [
    "1. How is the decay constant λ related to half-life? Be as mathematically specific as possible."
   ]
  },
  {
   "cell_type": "markdown",
   "metadata": {
    "deletable": false,
    "nbgrader": {
     "checksum": "73bf5c116fef325a14359b4e9aa7ccd3",
     "grade": true,
     "grade_id": "a1",
     "locked": false,
     "points": 3,
     "schema_version": 1,
     "solution": true
    }
   },
   "source": [
    "YOUR ANSWER HERE"
   ]
  },
  {
   "cell_type": "markdown",
   "metadata": {
    "deletable": false,
    "editable": false,
    "nbgrader": {
     "checksum": "7658925c526dd6fdd4fc8d020f4f09bd",
     "grade": false,
     "grade_id": "q2",
     "locked": true,
     "schema_version": 1,
     "solution": false
    }
   },
   "source": [
    "**Write a statement of balance in words that describes:**\n",
    "1. the time rate of change of number of $^{40}$K atoms.\n",
    "2. the time rate of change of the number of $^{39}$Ar atoms."
   ]
  },
  {
   "cell_type": "markdown",
   "metadata": {
    "deletable": false,
    "nbgrader": {
     "checksum": "d9aebfda38dc443fb36ab31b2d9caef2",
     "grade": true,
     "grade_id": "a2",
     "locked": false,
     "points": 4,
     "schema_version": 1,
     "solution": true
    }
   },
   "source": [
    "YOUR ANSWER HERE"
   ]
  },
  {
   "cell_type": "markdown",
   "metadata": {
    "deletable": false,
    "editable": false,
    "nbgrader": {
     "checksum": "a8dacf60101b3d400f8667d955c52e22",
     "grade": false,
     "grade_id": "q3",
     "locked": true,
     "schema_version": 1,
     "solution": false
    }
   },
   "source": [
    "Translate your statements of balance to mathematical symbols. Use the symbol 'Ar' to represent the amount of $^{39}$Ar and the symbol 'K' to represent the number of $^{40}$K atoms. (show your work)."
   ]
  },
  {
   "cell_type": "markdown",
   "metadata": {
    "deletable": false,
    "nbgrader": {
     "checksum": "7e10dc81b9612dc964d22c72fb30c786",
     "grade": true,
     "grade_id": "a3",
     "locked": false,
     "points": 4,
     "schema_version": 1,
     "solution": true
    }
   },
   "source": [
    "YOUR ANSWER HERE"
   ]
  },
  {
   "cell_type": "markdown",
   "metadata": {
    "deletable": false,
    "editable": false,
    "nbgrader": {
     "checksum": "ede985613e3423bb19491488e739c21a",
     "grade": false,
     "grade_id": "q4",
     "locked": true,
     "schema_version": 1,
     "solution": false
    }
   },
   "source": [
    "The equation that describes the time rate of change of the ratio $r$ of $^{39}$Ar/$^{40}$K is:\n",
    "$$\n",
    "\\frac{d R}{d t} = 0.11 \\lambda e^{\\lambda t} \n",
    "$$\n",
    "The initial condition on $R$ is that:\n",
    "$$\n",
    "R(0) = 0\n",
    "$$\n",
    "(i.e. there is no daughter product present at time 0).\n",
    "\n",
    "This equation has the analytic solution: \n",
    "$$R(t) = 0.11(e^{\\lambda t}-1)$$"
   ]
  },
  {
   "cell_type": "markdown",
   "metadata": {
    "deletable": false,
    "editable": false,
    "nbgrader": {
     "checksum": "552cc1e415d3be9aff64fb7760b15a79",
     "grade": false,
     "grade_id": "q5",
     "locked": true,
     "schema_version": 1,
     "solution": false
    }
   },
   "source": [
    "Write down a finite difference approximation to the equation for $dR/dt$ using the Forward Euler method. Your finite difference approximation should allow you to calculate a new approximation $R^{n+1}$ given a value $R^n$ for the previous timestep. (show your work)."
   ]
  },
  {
   "cell_type": "markdown",
   "metadata": {
    "deletable": false,
    "nbgrader": {
     "checksum": "34265c0f7665b436305b0a2231c04ece",
     "grade": true,
     "grade_id": "a5",
     "locked": false,
     "points": 4,
     "schema_version": 1,
     "solution": true
    }
   },
   "source": [
    "YOUR ANSWER HERE"
   ]
  },
  {
   "cell_type": "markdown",
   "metadata": {
    "deletable": false,
    "editable": false,
    "nbgrader": {
     "checksum": "19daee8e233490d61430818b1ee39ec7",
     "grade": false,
     "grade_id": "q6",
     "locked": true,
     "schema_version": 1,
     "solution": false
    }
   },
   "source": [
    "1. Write code to obtain a numerical solution for R(t) starting at t=0 and ending after 6 half-lives.\n",
    "2. Make a plot showing the ratio of $^{39}$Ar/$^{40}$K. Use distinct line styles, label the axes, and include a legend indicating the numerical and analytic solutions.\n",
    "\n",
    "**If your numerical solution won't work, please still make the plot of the analytic solution for partial credit.**"
   ]
  },
  {
   "cell_type": "code",
   "execution_count": null,
   "metadata": {
    "deletable": false,
    "nbgrader": {
     "checksum": "bd64e43bbe649e1459558305441cdcb9",
     "grade": true,
     "grade_id": "a6",
     "locked": false,
     "points": 12,
     "schema_version": 1,
     "solution": true
    }
   },
   "outputs": [],
   "source": [
    "# YOUR CODE HERE\n",
    "raise NotImplementedError()"
   ]
  },
  {
   "cell_type": "markdown",
   "metadata": {
    "deletable": false,
    "editable": false,
    "nbgrader": {
     "checksum": "d7877cb18df0efb79d9a446c06a70b73",
     "grade": false,
     "grade_id": "q7",
     "locked": true,
     "schema_version": 1,
     "solution": false
    }
   },
   "source": [
    "To use the equation in the previous step to date a real igneous rock, what kinds of assumptions do you have to make? Do any of these assumptions seem more or less reasonable than the assumptions that you made in Lab 2 (about the U/Pb system)?"
   ]
  },
  {
   "cell_type": "markdown",
   "metadata": {
    "deletable": false,
    "nbgrader": {
     "checksum": "29dc4ac228cf0e1df11afc9bb385018b",
     "grade": true,
     "grade_id": "a7",
     "locked": false,
     "points": 3,
     "schema_version": 1,
     "solution": true
    }
   },
   "source": [
    "YOUR ANSWER HERE"
   ]
  }
 ],
 "metadata": {
  "kernelspec": {
   "display_name": "Python [default]",
   "language": "python",
   "name": "python3"
  },
  "language_info": {
   "codemirror_mode": {
    "name": "ipython",
    "version": 3
   },
   "file_extension": ".py",
   "mimetype": "text/x-python",
   "name": "python",
   "nbconvert_exporter": "python",
   "pygments_lexer": "ipython3",
   "version": "3.5.3"
  }
 },
 "nbformat": 4,
 "nbformat_minor": 2
}
