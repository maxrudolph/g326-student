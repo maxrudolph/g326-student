{
 "cells": [
  {
   "cell_type": "markdown",
   "metadata": {
    "deletable": false,
    "editable": false,
    "nbgrader": {
     "checksum": "4163c3b5b92059ea4ab99fd2e1db8a69",
     "grade": false,
     "grade_id": "intro",
     "locked": true,
     "schema_version": 1,
     "solution": false
    }
   },
   "source": [
    "This week's exercise will have you develop a model of the Neoproterozoic Ocean Carbon cycle. The model is based on one proposed by Rothman et al. (2003) in a paper that appeared in Proceedings of the National Academy of Sciences. It's available on D2L. Here is the abstract of the paper, to provide some context:\n",
    "\n",
    "``The existence of unusually large fluctuations in the Neoproterozoic\n",
    "(1,000-543 million years ago) carbon-isotopic record implies strong\n",
    "perturbations to the Earth's carbon cycle. To analyze these fluctuations,\n",
    "we examine records of both the isotopic content of carbonate\n",
    "carbon and the fractionation between carbonate and\n",
    "marine organic carbon. Together, these are inconsistent with\n",
    "conventional, steady-state models of the carbon cycle. The records\n",
    "can be well understood, however, as deriving from the nonsteady\n",
    "dynamics of two reactive pools of carbon. The lack of a steady state\n",
    "is traced to an unusually large oceanic reservoir of organic carbon.\n",
    "We suggest that the most significant of the Neoproterozoic negative\n",
    "carbon-isotopic excursions resulted from increased remineralization\n",
    "of this reservoir. The terminal event, at the Proterozoic-Cambrian boundary, signals the final diminution of the reservoir,\n",
    "a process that was likely initiated by evolutionary innovations that\n",
    "increased export of organic matter to the deep sea.''\n",
    "\n",
    "The model that Rothman et al. (2003) develop is very simple in that it contains only two pools of carbon. One pool represents the dissolved inorganic carbon whereas the other represents the dissolved organic carbon. The model that you will develop to describe this system is a **Box model**. In a box model, multiple **boxes** or reservoirs are present. One or more quantities can be exchanged among the different boxes. Describing a box model requires quantifying the rates of exchange of quantities between boxes as well as the rate of addition or removal from the system, as shown in Figure 1 (from Slingerland and Kump Chapter 3). \n",
    "\n",
    "\n",
    "\n",
    "# Note: Figure 1 shows the amount of carbon in each box at *steady state*, i.e., when:\n",
    "\n",
    "$$\\frac{dM_1}{dt}=\\frac{dM_2}{dt}=0$$."
   ]
  },
  {
   "cell_type": "markdown",
   "metadata": {
    "deletable": false,
    "editable": false,
    "nbgrader": {
     "checksum": "2561399fae0da58114783f2d06d0e561",
     "grade": false,
     "grade_id": "fig1",
     "locked": true,
     "schema_version": 1,
     "solution": false
    }
   },
   "source": [
    "![SK_Figure3-10](./SK_Fig3-10.png)\n",
    "**Figure 1: (Figure 3-10 from Slingerland and Kump text)**"
   ]
  },
  {
   "cell_type": "markdown",
   "metadata": {
    "deletable": false,
    "editable": false,
    "nbgrader": {
     "checksum": "02e7783c6658a1127c5cab882c96ee8d",
     "grade": false,
     "grade_id": "text2",
     "locked": true,
     "schema_version": 1,
     "solution": false
    }
   },
   "source": [
    "Based on the quantities $M_1$ and $M_2$ shown in Figure 1, we can develop a mathematical description of the system that will allow us to study how the amount of carbon present in the dissolved organic carbon reservoir and the dissolved inorganic carbon reservoir changes if the carbon input to the ocean system ($F_{01}$) changes abruptly. In particular, if we assume that the fluxes of Carbon between the two boxes $F_{12}$ and $F_{21}$ as well as the rate of burial of inorganic carbon $F_{10}$ are linearly proportional to the mass of carbon in the box from which each arrow emanates. Put mathematically, we will assume that:\n",
    "\\begin{equation}\n",
    "\\begin{split}\n",
    "F_{10} = C_{10} M_1\\\\\n",
    "F_{21} = C_{21} M_2\\\\\n",
    "F_{12} = C_{12} M_1\\\\\n",
    "\\end{split}\n",
    "\\end{equation}\n",
    "\n",
    "Note: $F_{01}$ is treated as a constant. We will change $F_{01}$ and look at how the system responds to changes in the rate of delivery of carbon from weathering. In developing your model, note that time is the independent variable and $M_1$ and $M_2$ are dependent variables - that is, their values will change over time."
   ]
  },
  {
   "cell_type": "markdown",
   "metadata": {
    "deletable": false,
    "editable": false,
    "nbgrader": {
     "checksum": "b510f0f98e8a4c167b3ec1d36ed99644",
     "grade": false,
     "grade_id": "q1",
     "locked": true,
     "schema_version": 1,
     "solution": false
    }
   },
   "source": [
    "** Part 1 ** From an observational standpoint, how can we distinguish organic carbon from inorganic carbon, i.e. what signature is preserved in the geologic record that tells us about the amount of organic and inorganic carbon in the oceans? (You may want to look at the Rothman et al. paper)."
   ]
  },
  {
   "cell_type": "markdown",
   "metadata": {
    "deletable": false,
    "nbgrader": {
     "checksum": "abdd536026db4f21e2d4a4ebb6522d29",
     "grade": true,
     "grade_id": "q1a",
     "locked": false,
     "points": 3,
     "schema_version": 1,
     "solution": true
    }
   },
   "source": [
    "YOUR ANSWER HERE"
   ]
  },
  {
   "cell_type": "markdown",
   "metadata": {
    "deletable": false,
    "editable": false,
    "nbgrader": {
     "checksum": "07acce2782df4a6bce14c5078d9e9f2c",
     "grade": false,
     "grade_id": "q2",
     "locked": true,
     "schema_version": 1,
     "solution": false
    }
   },
   "source": [
    "**Part 2** From the box model shown in Figure 1 and the relationship between fluxes and reservoir masses given by Equation 1, determine the rate constants $C_{10}$, $C_{21}$, and $C_{12}$. Don't forget units, and show your work. You may want to check these values with your neighbor and/or TA as getting the answers wrong will invalidate all subsequent calculations."
   ]
  },
  {
   "cell_type": "markdown",
   "metadata": {
    "deletable": false,
    "nbgrader": {
     "checksum": "e0dfe62c0012ab99aae6186b6bdcf2f9",
     "grade": true,
     "grade_id": "q2a",
     "locked": false,
     "points": 3,
     "schema_version": 1,
     "solution": true
    }
   },
   "source": [
    "YOUR ANSWER HERE"
   ]
  },
  {
   "cell_type": "markdown",
   "metadata": {
    "deletable": false,
    "editable": false,
    "nbgrader": {
     "checksum": "1bb51ccf0b76f78bc2079a020e7ac192",
     "grade": false,
     "grade_id": "q3",
     "locked": true,
     "schema_version": 1,
     "solution": false
    }
   },
   "source": [
    "**Part 3** From the box model in Figure 1, develop equations describing the time rate of change of the mass of carbon within boxes 1 and 2. Use the expressions in Equation 1 to formulate the fluxes of carbon in and out of the boxes. Your equations should be statements of balance of the form:\n",
    "\n",
    "(Time rate of change of mass of carbon in reservoir) = (Rate of addition) - (Rate of removal)."
   ]
  },
  {
   "cell_type": "markdown",
   "metadata": {
    "deletable": false,
    "nbgrader": {
     "checksum": "238e4f0cb4fcd74c8d6d2e0a01a3aa55",
     "grade": true,
     "grade_id": "q3a",
     "locked": false,
     "points": 4,
     "schema_version": 1,
     "solution": true
    }
   },
   "source": [
    "YOUR ANSWER HERE"
   ]
  },
  {
   "cell_type": "markdown",
   "metadata": {
    "deletable": false,
    "editable": false,
    "nbgrader": {
     "checksum": "8bb5dd424658f381ebd78619f1c98d30",
     "grade": false,
     "grade_id": "q4",
     "locked": true,
     "schema_version": 1,
     "solution": false
    }
   },
   "source": [
    "**Part 4** Derive finite-difference approximations to the derivatives in your differential equations using the Forward Euler method. Write the recurrence relations here that you will use to solve for $M_1^{n+1}$ and $M_2^{n+1}$ given $M_1^n$ and $M_2^n$. Show your work."
   ]
  },
  {
   "cell_type": "markdown",
   "metadata": {
    "deletable": false,
    "nbgrader": {
     "checksum": "3722abfcadc6441496d53710e4874636",
     "grade": true,
     "grade_id": "q4a",
     "locked": false,
     "points": 4,
     "schema_version": 1,
     "solution": true
    }
   },
   "source": [
    "YOUR ANSWER HERE"
   ]
  },
  {
   "cell_type": "markdown",
   "metadata": {
    "deletable": false,
    "editable": false,
    "nbgrader": {
     "checksum": "b2753f8297408a9240db6280243b9dd1",
     "grade": false,
     "grade_id": "q5",
     "locked": true,
     "schema_version": 1,
     "solution": false
    }
   },
   "source": [
    "**Part 5** Derive finite-difference approximations to the derivatives in your differential equations using the Backward Euler method. Write the recurrence relations here that you will use to solve for $M_1^{n+1}$ and $M_2^{n+1}$ given $M_1^n$ and $M_2^n$. Note that you will need to solve a linear system of equations to do this. Show your work. Use additional paper as necessary."
   ]
  },
  {
   "cell_type": "markdown",
   "metadata": {
    "deletable": false,
    "nbgrader": {
     "checksum": "23cd70ed8ab12c0d075940545a1cd402",
     "grade": true,
     "grade_id": "q5a",
     "locked": false,
     "points": 4,
     "schema_version": 1,
     "solution": true
    }
   },
   "source": [
    "YOUR ANSWER HERE"
   ]
  },
  {
   "cell_type": "markdown",
   "metadata": {
    "deletable": false,
    "editable": false,
    "nbgrader": {
     "checksum": "3ae2c7dc9d7d5b29b5981c1596926123",
     "grade": false,
     "grade_id": "q6",
     "locked": true,
     "schema_version": 1,
     "solution": false
    }
   },
   "source": [
    "**Part 6** Write a computer program to solve for the amounts of organic and inorganic carbon ($M_1$ and $M_2$) using the Forward Euler method. Start at time t=0 and end at time t=10,000 years. Model the response of the system to an instantaneous doubling of $F_{01}$, the rate of delivery of inorganic carbon from weathering but use initial conditions (initial masses $M_1$ and $M_2$) from Figure 1. Make a plot showing how the masses of carbon in each reservoir change over the 10,000 year period following the doubling of carbon input. Note: you will want to make your plots in a way that allows for multiple quantities to be plotted using separate y-axes with different limits. Take time steps of 100 years."
   ]
  },
  {
   "cell_type": "code",
   "execution_count": null,
   "metadata": {
    "deletable": false,
    "nbgrader": {
     "checksum": "0d4feaa4d6809b02378f9ebee7ba45bc",
     "grade": true,
     "grade_id": "q6a",
     "locked": false,
     "points": 7,
     "schema_version": 1,
     "solution": true
    }
   },
   "outputs": [],
   "source": [
    "# YOUR CODE HERE\n",
    "raise NotImplementedError()"
   ]
  },
  {
   "cell_type": "markdown",
   "metadata": {
    "deletable": false,
    "editable": false,
    "nbgrader": {
     "checksum": "8841889fc8272feea474d81f0c633c4e",
     "grade": false,
     "grade_id": "q6b",
     "locked": true,
     "schema_version": 1,
     "solution": false
    }
   },
   "source": [
    "What happens if you increase the time step to 1000 years? (describe in words and include a graph)."
   ]
  },
  {
   "cell_type": "code",
   "execution_count": null,
   "metadata": {
    "deletable": false,
    "nbgrader": {
     "checksum": "18bdc8f053f7c62a33e54e136e865b72",
     "grade": false,
     "grade_id": "q6c",
     "locked": false,
     "schema_version": 1,
     "solution": true
    }
   },
   "outputs": [],
   "source": [
    "# YOUR CODE HERE\n",
    "raise NotImplementedError()"
   ]
  },
  {
   "cell_type": "markdown",
   "metadata": {
    "deletable": false,
    "nbgrader": {
     "checksum": "3ca2264eca0990961081ff1e8afa2b7c",
     "grade": true,
     "grade_id": "q6d",
     "locked": false,
     "points": 4,
     "schema_version": 1,
     "solution": true
    }
   },
   "source": [
    "YOUR ANSWER HERE"
   ]
  },
  {
   "cell_type": "markdown",
   "metadata": {
    "deletable": false,
    "editable": false,
    "nbgrader": {
     "checksum": "07c3c27755628b738ede1bb841caded3",
     "grade": false,
     "grade_id": "q7",
     "locked": true,
     "schema_version": 1,
     "solution": false
    }
   },
   "source": [
    "**Part 7** Write a second computer program to solve for the amounts of organic and inorganic carbon using the Backwards Euler method. Start at time t=0 and end at time t=1,000,000 years. Model the response of the system to an instantaneous doubling of $F_{01}$, the rate of delivery of inorganic carbon from weathering but use initial conditions (initial masses $M_1$ and $M_2$ from Figure 1. Make a plot showing how the masses of carbon in each reservoir change over the 1 billion year period following the doubling of carbon input. Take time steps of $10^6$ years. Note: you will want to make your plots in a way that allows for multiple quantities to be plotted using separate y-axes with different limits."
   ]
  },
  {
   "cell_type": "code",
   "execution_count": null,
   "metadata": {
    "deletable": false,
    "nbgrader": {
     "checksum": "e193b9793da0043e9ceeeb74a708fdc9",
     "grade": true,
     "grade_id": "q7a",
     "locked": false,
     "points": 7,
     "schema_version": 1,
     "solution": true
    }
   },
   "outputs": [],
   "source": [
    "# YOUR CODE HERE\n",
    "raise NotImplementedError()"
   ]
  },
  {
   "cell_type": "markdown",
   "metadata": {
    "deletable": false,
    "editable": false,
    "nbgrader": {
     "checksum": "c511d0fd0afbce197ab2a8b5ee10bfa1",
     "grade": false,
     "grade_id": "q8",
     "locked": true,
     "schema_version": 1,
     "solution": false
    }
   },
   "source": [
    "**Part 8** Describe, in words, the response of the system to a sudden change in weathering input on long (Gyr) and short (few kyr) time scales."
   ]
  },
  {
   "cell_type": "markdown",
   "metadata": {
    "deletable": false,
    "nbgrader": {
     "checksum": "a626986d0293d37ad2a84837ab1ad17c",
     "grade": true,
     "grade_id": "q8a",
     "locked": false,
     "points": 4,
     "schema_version": 1,
     "solution": true
    }
   },
   "source": [
    "YOUR ANSWER HERE"
   ]
  },
  {
   "cell_type": "markdown",
   "metadata": {
    "deletable": false,
    "editable": false,
    "nbgrader": {
     "checksum": "b8f25b1f015f8931b03def11c2d2dd63",
     "grade": false,
     "grade_id": "q9",
     "locked": true,
     "schema_version": 1,
     "solution": false
    }
   },
   "source": [
    "**Part 9** In the limit as time goes to infinity, what is the mass of Carbon present in each of the two reservoirs when $F_{01}=0.2$ GtC/year? What about when $F_{01}=0.3$ GtC/year?"
   ]
  },
  {
   "cell_type": "markdown",
   "metadata": {
    "deletable": false,
    "nbgrader": {
     "checksum": "7a2bbb8e8793dfebd6a4c5a5c3e3483d",
     "grade": true,
     "grade_id": "q9a",
     "locked": false,
     "points": 4,
     "schema_version": 1,
     "solution": true
    }
   },
   "source": [
    "YOUR ANSWER HERE"
   ]
  }
 ],
 "metadata": {
  "kernelspec": {
   "display_name": "Python [default]",
   "language": "python",
   "name": "python3"
  },
  "language_info": {
   "codemirror_mode": {
    "name": "ipython",
    "version": 3
   },
   "file_extension": ".py",
   "mimetype": "text/x-python",
   "name": "python",
   "nbconvert_exporter": "python",
   "pygments_lexer": "ipython3",
   "version": "3.5.3"
  }
 },
 "nbformat": 4,
 "nbformat_minor": 2
}
