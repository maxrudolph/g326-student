{
 "cells": [
  {
   "cell_type": "markdown",
   "metadata": {
    "deletable": false,
    "editable": false,
    "nbgrader": {
     "checksum": "08d79373dbb663e2ca02d5a914eb3f37",
     "grade": false,
     "grade_id": "cell1",
     "locked": true,
     "schema_version": 1,
     "solution": false
    }
   },
   "source": [
    "# Introduction\n",
    "\n",
    "This week we will be studying diffusion in the context of using morphological features to date fault scarps. Given a field example of a fault scarp, what can we say about the time that has elapsed since the occurrence of the earthquake that produced the offset? The scenario is illustrated in Figure 1.\n",
    "\n",
    "![alt text](Scarp_Cartoons.png)\n",
    "**Figure 1:** (top) Evolution of surface topography above a fault showing topography before, immediately after, and quite a while after a large earthquake. (bottom) Initial condition used in our modeling exercise.\n",
    "\n",
    "As we discussed in class (and in your textbook), transport processes on hill slopes are described by a first-order rate law that links the volume flux of soil to the gradient of the surface:\n",
    "\n",
    "$$\n",
    "q=-\\kappa \\frac{\\partial y}{\\partial x}\n",
    "$$\n",
    "where $y$ is the elevation of the land surface above some datum and x is horizontal position (Figure 1). The diffusivity $\\kappa$ is a site-specific constant that can be determined through modeling of topography associated with scarps of known age. The first-order rate law above, combined with mass balance considerations, leads to a diffusion equation that describes how surface morphology changes over time:\n",
    "\n",
    "$$\n",
    "\\frac{\\partial y}{\\partial t} = \\kappa \\frac{\\partial^2 y}{\\partial x^2}\n",
    "$$\n",
    "\n",
    "We will solve this equation numerically by approximating the time derivative on the left hand side using the Forward Euler method as we did in previous labs and the spatial derivative on the right hand side using the same method used last week. The overall process is:\n",
    "\n",
    "\n",
    "1. Write down the complete set of equations, initial, and boundary conditions that you will solve.\n",
    "1. Write down the finite difference approximation to the equations that you will solve.\n",
    "1. Define the time step $\\Delta t$ and the spatial grid defined by the vector $\\underline{x}$ and the grid spacing $\\Delta x$ to be used.\n",
    "1. Populate a vector $\\underline{y}$ with the initial condition. This is the solution to the problem (i.e., values of the dependent variable) at time $t^1=t_0$, i.e. for $n=1$. Call this solution `yold`. Define a scalar called `time` to store the total elapsed time and set it equal to 0.\n",
    "1. Obtain a solution for $\\underline{y}$ at timestep $n+1$ ($\\underline{y}^{n+1}$). Call this solution `ynew`.\n",
    "1. Save or plot the output if necessary (usually it is not possible to save all of the output because of the limited amount of RAM available for storage of solutions).\n",
    "1. Increase n by 1 (advance to the next time step). Make the assignment yold=ynew, since the solution that we just obtained is now the *old* solution. Add $\\Delta t$ to `time`.\n",
    "1. Repeat steps 5-7 as necessary until the elapsed simulation time reaches the desired total elapsed time.\n",
    "\n",
    "Recall that last week we used subscripts of the dependent variable to denote spatial indices and superscripts to denote temporal indices. In this week's exercise, subscripts refer to spatial indices and superscripts refer to temporal indices (time step number). For instance, \n",
    "$$\n",
    "y_i^n\n",
    "$$\n",
    "indicates the value of the solution $y$ at the $n$-th time step ($t=t^n$) and at the $i$-th grid point ($x=x_i$). Recall that for the Forward Euler method, we approximate an equation that relates the time derivative of a function $y$ to the value of some function of space and time $f(x,y)$:\n",
    "$$\n",
    "\\frac{\\partial y}{\\partial t} = f(y,t)\n",
    "$$\n",
    "as\n",
    "$$\n",
    "\\frac{y_i^{n}-y_i^{n-1}}{\\Delta t} = f(y^{n-1},t^{n-1})\n",
    "$$\n",
    "Note that the right hand side of the above equation includes a non-specific function $f$. For the problem that we're trying to solve,\n",
    "$$\n",
    "f(y,t) = \\kappa \\frac{\\partial^2 y}{\\partial x^2}\n",
    "$$\n",
    "We can then write the Forward Euler approximation to this equation as:\n",
    "$$\n",
    "\\frac{y_i^{n}-y_i^{n-1}}{\\Delta t} = \\kappa \\left( \\left.\\frac{\\partial^2 y}{\\partial x^2}\\right|_{\\substack{t=t^{n-1}\\\\x=x_{i\\ \\ }}} \\right)\n",
    "$$\n",
    "Substituting in the expression that we used last week to approximate the second derivative, we have:\n",
    "$$\n",
    "\\left.\\frac{\\partial^2 y}{\\partial x^2}\\right|_{\\substack{t=t^{n-1}\\\\x=x_{i\\ \\ }}} = \\frac{1}{\\Delta x^2}\\left(y_{i-1}^{n-1} -2 y_i^{n-1} + y_{i+1}^{n-1} \\right)\n",
    "$$\n",
    "Now, we can put together previous equations to obtain:\n",
    "$$\n",
    "\\frac{y_i^{n}-y_i^{n-1}}{\\Delta t} = \\kappa\\frac{1}{\\Delta x^2}\\left(y_{i-1}^{n-1} -2 y_i^{n-1} + y_{i+1}^{n-1} \\right)\n",
    "$$\n",
    "Note that the above expression can be re-arranged to give you an expression for each $y_i$ at timestep $n$ in terms of only quantities defined at timestep $n-1$."
   ]
  },
  {
   "cell_type": "markdown",
   "metadata": {
    "deletable": false,
    "editable": false,
    "nbgrader": {
     "checksum": "39c064fa984ae3fb3c14ff7909b031cd",
     "grade": false,
     "grade_id": "cell2",
     "locked": true,
     "schema_version": 1,
     "solution": false
    }
   },
   "source": [
    "# Statement of Problem\n",
    "\n",
    "You will create a MATLAB script to solve a 1-dimensional diffusion problem in both space and time. This week's exercises assemble what you did previously to solve an initial value problem with what you did last week to solve a boundary value problem. The problem that you will solve is:\n",
    "$$\n",
    "\\frac{\\partial y}{\\partial t} = \\kappa \\frac{\\partial^2 y}{\\partial x^2}\n",
    "$$\n",
    "Subject to the initial condition:\n",
    "$$\n",
    "y(x,0) = \\left\\{\n",
    "     \\begin{array}{lr}\n",
    "       2 & : x > 0\\\\\n",
    "       0 & : x \\le 0\n",
    "            \\end{array}\n",
    "   \\right.\n",
    "$$\n",
    "and boundary conditions:\n",
    "$$\n",
    "\\begin{split}\n",
    "y(-150,t) = 0\\\\\n",
    "y(150,t) = 2\n",
    "\\end{split}\n",
    "$$\n",
    "Thus, the domain in which you need to calculate a solution is $x\\in[ -150 m, +150 m]$. You will start at time $t=0$ and take time steps of size $\\Delta t$. The value of $\\kappa$ for this problem is 1.5 m$^2$/kyr (kyr means 1000 years)."
   ]
  },
  {
   "cell_type": "markdown",
   "metadata": {
    "deletable": false,
    "editable": false,
    "nbgrader": {
     "checksum": "43efffa94ce245950f8b0678b9557ba2",
     "grade": false,
     "grade_id": "cell2-5",
     "locked": true,
     "schema_version": 1,
     "solution": false
    }
   },
   "source": [
    "**0.** What is the solution to the slope diffusion equation with boundary conditions specified above in the limit as $t\\to \\infty$? *Hint: The solution as time goes to infinity is the same as the steady-state solution* **Show your work.**"
   ]
  },
  {
   "cell_type": "markdown",
   "metadata": {
    "deletable": false,
    "nbgrader": {
     "checksum": "eff2f3223512304bca4f9df467e0499e",
     "grade": true,
     "grade_id": "ans0",
     "locked": false,
     "points": 4,
     "schema_version": 1,
     "solution": true
    }
   },
   "source": [
    "YOUR ANSWER HERE"
   ]
  },
  {
   "cell_type": "markdown",
   "metadata": {
    "deletable": false,
    "editable": false,
    "nbgrader": {
     "checksum": "273210d53f427e776cbbd92485fd05fc",
     "grade": false,
     "grade_id": "cell3",
     "locked": true,
     "schema_version": 1,
     "solution": false
    }
   },
   "source": [
    "**1**. Start by writing down the finite-difference approximation to the diffusion equation using the Forward Euler scheme for time integration. Solve the expression for $y_i^{n}$. You should have an equation that has only $y_i^n$ on the left hand side and $y_{i-1}^{n-1}$, $y_i^{n-1}$, and $y_{i+1}^{n-1}$ on the right hand side. Note that all of these right hand side terms involve values of $\\underline{y}$ at time $n-1$."
   ]
  },
  {
   "cell_type": "markdown",
   "metadata": {
    "collapsed": true,
    "deletable": false,
    "nbgrader": {
     "checksum": "327a412921a5b2b91df8bc8439b9e1a1",
     "grade": true,
     "grade_id": "ans1",
     "locked": false,
     "points": 2,
     "schema_version": 1,
     "solution": true
    }
   },
   "source": [
    "YOUR ANSWER HERE"
   ]
  },
  {
   "cell_type": "markdown",
   "metadata": {
    "deletable": false,
    "editable": false,
    "nbgrader": {
     "checksum": "eb146b448d6320d0f83344922220a8d5",
     "grade": false,
     "grade_id": "cell4",
     "locked": true,
     "schema_version": 1,
     "solution": false
    }
   },
   "source": [
    "The finite difference scheme above can be expressed in the form of $\\underline{y}^n = \\underline{\\underline{M}}\\ \\underline{y}^{n-1}$ (i.e. the solution at time step $n$ can be obtained by multiplying a yet-to-be-determined matrix with the vector containing the solution at time $n-1$. Write down expressions for the entries in the matrix $\\underline{\\underline{M}}$. Hint: start with what you did in the previous step and write out the expressions for $y_i^n$ for spatial indices $i=2$ and $i=3$. Do you recognize a pattern? You may be able to express the matrix $\\underline{\\underline{M }}$ in terms of the diffusion matrix $\\underline{\\underline{D}}$ from last week and the identity matrix (except for the first and last rows)."
   ]
  },
  {
   "cell_type": "markdown",
   "metadata": {
    "deletable": false,
    "nbgrader": {
     "checksum": "4fddacbaffbbc36e81556dd62d10bf3d",
     "grade": true,
     "grade_id": "ans1-5",
     "locked": false,
     "points": 4,
     "schema_version": 1,
     "solution": true
    }
   },
   "source": [
    "YOUR ANSWER HERE"
   ]
  },
  {
   "cell_type": "markdown",
   "metadata": {
    "deletable": false,
    "editable": false,
    "nbgrader": {
     "checksum": "5e9f3495ee958efa53eec72b7c23342c",
     "grade": false,
     "grade_id": "cell5",
     "locked": true,
     "schema_version": 1,
     "solution": false
    }
   },
   "source": [
    "What do you need to do to ensure that the boundary conditions are satisfied at each timestep? Hint: they are enforced as part of the initial condition. You need to think about how to maintain their values at subsequent time steps."
   ]
  },
  {
   "cell_type": "markdown",
   "metadata": {
    "deletable": false,
    "nbgrader": {
     "checksum": "d34a3497f72545745ccad8d502803e71",
     "grade": true,
     "grade_id": "ans2",
     "locked": false,
     "points": 3,
     "schema_version": 1,
     "solution": true
    }
   },
   "source": [
    "YOUR ANSWER HERE"
   ]
  },
  {
   "cell_type": "markdown",
   "metadata": {
    "deletable": false,
    "editable": false,
    "nbgrader": {
     "checksum": "504ab7de6e3f2f98e7a0ec87902770ff",
     "grade": false,
     "grade_id": "cell5-5",
     "locked": true,
     "schema_version": 1,
     "solution": false
    }
   },
   "source": [
    "Add code to:\n",
    "1. create a uniformly-spaced x-vector (as you did last week)\n",
    "2. define `tmin` and `tmax` (tmax should be set to 10,000 years)\n",
    "2. crate a uniformly spaced t-vector (as you did earlier this quarter)\n",
    "3. and define the grid spacing dx.\n",
    "4. define the time step dt. For now, use 201 grid points in the x-direction. Choose a time step $dt=\\frac{(\\Delta x)^2}{4\\kappa}$.\n",
    "\n",
    "**Don't forget to check for consistent dimensions throughout your code. The autograder tests assume that you work in meters and kyr for distance and time.**"
   ]
  },
  {
   "cell_type": "code",
   "execution_count": null,
   "metadata": {
    "deletable": false,
    "nbgrader": {
     "checksum": "ec2294f0ff88e4d496c55926395c991e",
     "grade": false,
     "grade_id": "ans3",
     "locked": false,
     "schema_version": 1,
     "solution": true
    }
   },
   "outputs": [],
   "source": [
    "# YOUR CODE HERE\n",
    "raise NotImplementedError()"
   ]
  },
  {
   "cell_type": "code",
   "execution_count": null,
   "metadata": {
    "deletable": false,
    "editable": false,
    "nbgrader": {
     "checksum": "f108bbb2ef9f2d70f34aa05fc2bc6fc3",
     "grade": true,
     "grade_id": "grade1",
     "locked": true,
     "points": 5,
     "schema_version": 1,
     "solution": false
    }
   },
   "outputs": [],
   "source": [
    "assert(x[0]==-150)\n",
    "assert(x[-1]==150)\n",
    "assert(kappa==1.5)\n",
    "assert(dt == 0.375)\n",
    "assert(dx == 1.50)\n",
    "assert(t[0] == 0.)\n",
    "assert( np.isclose(t[-1],1e1) )"
   ]
  },
  {
   "cell_type": "markdown",
   "metadata": {
    "deletable": false,
    "editable": false,
    "nbgrader": {
     "checksum": "d7a83efe16b3f9a8d91fcc0d1c23d811",
     "grade": false,
     "grade_id": "cell6-0",
     "locked": true,
     "schema_version": 1,
     "solution": false
    }
   },
   "source": [
    "Create a vector `y0` to hold the initial condition (values of y at each grid point at time 0):"
   ]
  },
  {
   "cell_type": "code",
   "execution_count": null,
   "metadata": {
    "deletable": false,
    "nbgrader": {
     "checksum": "6bcd323105a89e800003efec36bb32b8",
     "grade": false,
     "grade_id": "cell6-1",
     "locked": false,
     "schema_version": 1,
     "solution": true
    }
   },
   "outputs": [],
   "source": [
    "# YOUR CODE HERE\n",
    "raise NotImplementedError()"
   ]
  },
  {
   "cell_type": "code",
   "execution_count": null,
   "metadata": {
    "deletable": false,
    "editable": false,
    "nbgrader": {
     "checksum": "b33991108d9468eba327a588cbcaff81",
     "grade": true,
     "grade_id": "cell6-2",
     "locked": true,
     "points": 2,
     "schema_version": 1,
     "solution": false
    }
   },
   "outputs": [],
   "source": [
    "assert( y0.shape == (nx,1) )\n",
    "assert( np.all( y0[x<=0] == 0.0 ) )\n",
    "assert( np.all( y0[x>0] == 2.0 ) )"
   ]
  },
  {
   "cell_type": "markdown",
   "metadata": {
    "deletable": false,
    "editable": false,
    "nbgrader": {
     "checksum": "675388170516a96bcfa92bfe1083f6f4",
     "grade": false,
     "grade_id": "cell6",
     "locked": true,
     "schema_version": 1,
     "solution": false
    }
   },
   "source": [
    "Add code to your m-file to construct the matrix $\\underline{\\underline{M}}$ that you defined above."
   ]
  },
  {
   "cell_type": "code",
   "execution_count": null,
   "metadata": {
    "deletable": false,
    "nbgrader": {
     "checksum": "6791c210c0891d9eebac85b9148cc15a",
     "grade": true,
     "grade_id": "cell6-5",
     "locked": false,
     "points": 4,
     "schema_version": 1,
     "solution": true
    }
   },
   "outputs": [],
   "source": [
    "# YOUR CODE HERE\n",
    "raise NotImplementedError()"
   ]
  },
  {
   "cell_type": "markdown",
   "metadata": {
    "deletable": false,
    "editable": false,
    "nbgrader": {
     "checksum": "92a31fc19232c4dba7c5a1acb73f099e",
     "grade": false,
     "grade_id": "cell7",
     "locked": true,
     "schema_version": 1,
     "solution": false
    }
   },
   "source": [
    "Add code to your m-file to solve the time-dependent diffusion equation starting at $t=0$ and ending at $t=tmax$ using the procedure outlined in the introduction."
   ]
  },
  {
   "cell_type": "code",
   "execution_count": null,
   "metadata": {
    "deletable": false,
    "nbgrader": {
     "checksum": "1043c9fac4759afc5b5c10f788ad36b4",
     "grade": true,
     "grade_id": "cell8",
     "locked": false,
     "points": 0,
     "schema_version": 1,
     "solution": true
    }
   },
   "outputs": [],
   "source": [
    "# YOUR CODE HERE\n",
    "raise NotImplementedError()"
   ]
  },
  {
   "cell_type": "markdown",
   "metadata": {
    "deletable": false,
    "editable": false,
    "nbgrader": {
     "checksum": "746d4dba151ec632ee4c590773f9e450",
     "grade": false,
     "grade_id": "cell9",
     "locked": true,
     "schema_version": 1,
     "solution": false
    }
   },
   "source": [
    "Produce a plot showing the scarp profiles predicted at 0 years (initial condition), and at 1000 year intervals until t=10,000 years. Hint: You should be able to come up with a method to save and/or plot these results within the loop that you use to do your time stepping calculation in the previous part."
   ]
  },
  {
   "cell_type": "code",
   "execution_count": null,
   "metadata": {
    "deletable": false,
    "nbgrader": {
     "checksum": "343e670c421a3f1e28948f62d881b2cf",
     "grade": true,
     "grade_id": "plot",
     "locked": false,
     "points": 4,
     "schema_version": 1,
     "solution": true
    }
   },
   "outputs": [],
   "source": [
    "# YOUR CODE HERE\n",
    "raise NotImplementedError()"
   ]
  },
  {
   "cell_type": "markdown",
   "metadata": {
    "deletable": false,
    "editable": false,
    "nbgrader": {
     "checksum": "4c7ffefb14e00ff26b3795615385d5cf",
     "grade": false,
     "grade_id": "cell10",
     "locked": true,
     "schema_version": 1,
     "solution": false
    }
   },
   "source": [
    "The file `scarp_data.txt` contains a dataset with vectors xdata and ydata that contain measurements of the surface elevation along a transect of an alluvial fan with a fault scarp produced by a holocene earthquake. The scarp is centered at $x=0$m. Determine the age of earthquake that produced the offset and estimate the uncertainty associated with your model age. Make a plot showing the data (you can use the `scatter` command) and the modeled present-day elevation profile for your preferred scarp age. Make sure that it is appropriately labeled and annotated."
   ]
  },
  {
   "cell_type": "code",
   "execution_count": null,
   "metadata": {
    "deletable": false,
    "editable": false,
    "nbgrader": {
     "checksum": "a3c3c814c595eb9c1cf61c61116d4271",
     "grade": false,
     "grade_id": "cell11",
     "locked": true,
     "schema_version": 1,
     "solution": false
    }
   },
   "outputs": [],
   "source": [
    "# THIS BLOCK READS AND PLOTS THE SCARP DATA SO THAT YOU CAN SEE WHAT IT LOOKS LIKE\n",
    "\n",
    "import numpy as np\n",
    "import matplotlib.pyplot as plt\n",
    "scarp_x, scarp_y  = np.loadtxt('scarp_data.txt',usecols=(0,1),unpack=True)\n",
    "plt.plot(scarp_x,scarp_y,'r.')\n",
    "plt.xlabel('x-postion (m)')\n",
    "plt.ylabel('elevation (m)')\n",
    "plt.show()"
   ]
  },
  {
   "cell_type": "code",
   "execution_count": null,
   "metadata": {
    "deletable": false,
    "nbgrader": {
     "checksum": "ec0d50ce6ff6579819f9eeacbd6ae5da",
     "grade": true,
     "grade_id": "age",
     "locked": false,
     "points": 4,
     "schema_version": 1,
     "solution": true
    }
   },
   "outputs": [],
   "source": [
    "# YOUR CODE HERE\n",
    "raise NotImplementedError()"
   ]
  },
  {
   "cell_type": "markdown",
   "metadata": {
    "deletable": false,
    "editable": false,
    "nbgrader": {
     "checksum": "ddb173dc57d9926c6be85e69951930af",
     "grade": false,
     "grade_id": "cell12",
     "locked": true,
     "schema_version": 1,
     "solution": false
    }
   },
   "source": [
    " Try modifying your code so that the time step is larger - try increasing it by a factor of 4: \n",
    " $dt=\\frac{(\\Delta x)^2}{\\kappa}$. What happens? Produce a plot below showing your calculated solution at t=10,000 years using this larger time step size. It will probably be easiest to just copy-and-paste the code to set up and solve the problem here, and modify only the time step. (Use the two cells below for code and markdown to address this question.)"
   ]
  },
  {
   "cell_type": "code",
   "execution_count": null,
   "metadata": {
    "deletable": false,
    "nbgrader": {
     "checksum": "0068b3196134b29419c9cda770323ac0",
     "grade": true,
     "grade_id": "cell13",
     "locked": false,
     "points": 2,
     "schema_version": 1,
     "solution": true
    }
   },
   "outputs": [],
   "source": [
    "# YOUR CODE HERE\n",
    "raise NotImplementedError()"
   ]
  },
  {
   "cell_type": "markdown",
   "metadata": {
    "deletable": false,
    "nbgrader": {
     "checksum": "819f85d064aa81d779d2014c5060f59a",
     "grade": true,
     "grade_id": "cell14",
     "locked": false,
     "points": 2,
     "schema_version": 1,
     "solution": true
    }
   },
   "source": [
    "YOUR ANSWER HERE"
   ]
  }
 ],
 "metadata": {
  "kernelspec": {
   "display_name": "Python 3",
   "language": "python",
   "name": "python3"
  },
  "language_info": {
   "codemirror_mode": {
    "name": "ipython",
    "version": 3
   },
   "file_extension": ".py",
   "mimetype": "text/x-python",
   "name": "python",
   "nbconvert_exporter": "python",
   "pygments_lexer": "ipython3",
   "version": "3.5.3"
  }
 },
 "nbformat": 4,
 "nbformat_minor": 2
}
