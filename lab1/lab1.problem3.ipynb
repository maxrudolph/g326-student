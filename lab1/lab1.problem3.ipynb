{
 "cells": [
  {
   "cell_type": "markdown",
   "metadata": {
    "deletable": true,
    "editable": true
   },
   "source": [
    "# Problem 3: Sorting\n",
    "\n",
    "You have been provided with an unsorted list of numbers. Write a python function to put the numbers in ascending order. You may not use the built-in sort command in python – the point of the exercise is to think about how to design an algorithm to solve this problem yourself. Your code should consist of a script in which you load the data, call a function (discussed next), and print the sorted list and a function that takes as argument the unsorted list and returns the sorted list. Both your script and your function should be adequately commented (see the style guide) so that your TA and instructor can see very easily what your program is doing.\n",
    "\n",
    "*Note: This last exercise is a solved problem in the sense that many extremely efficient sorting algorithms exist. The point of the exercise is less to produce optimally efficient code and more to develop your own algorithmic thinking and python programming skills. Copying code from the internet will result in a grade of ‘0’ for the whole lab. Paraphrasing code from the internet might get you a good grade on the lab, but will hurt you on the midterm.*"
   ]
  },
  {
   "cell_type": "markdown",
   "metadata": {
    "deletable": true,
    "editable": true
   },
   "source": [
    "Describe in words how your sorting algorithm works, step-by-step. This should be described with a level of detail that would allow a classmate to reproduce your code without seeing it."
   ]
  },
  {
   "cell_type": "markdown",
   "metadata": {
    "deletable": false,
    "editable": true,
    "nbgrader": {
     "checksum": "d53553ed6407014fe065588f7319ad89",
     "grade": true,
     "grade_id": "description",
     "locked": false,
     "points": 5,
     "schema_version": 1,
     "solution": true
    }
   },
   "source": [
    "YOUR ANSWER HERE"
   ]
  },
  {
   "cell_type": "markdown",
   "metadata": {
    "deletable": true,
    "editable": true
   },
   "source": [
    "Now add code to the function my_sort below to implement your sorting algorithm:"
   ]
  },
  {
   "cell_type": "code",
   "execution_count": null,
   "metadata": {
    "deletable": false,
    "editable": true,
    "nbgrader": {
     "checksum": "c32397081d74233f4b183b2ea58ea559",
     "grade": false,
     "grade_id": "sort_algo",
     "locked": false,
     "schema_version": 1,
     "solution": true
    }
   },
   "outputs": [],
   "source": [
    "def my_sort(unsorted_list):\n",
    "    # YOUR CODE HERE\n",
    "    raise NotImplementedError()"
   ]
  },
  {
   "cell_type": "code",
   "execution_count": null,
   "metadata": {
    "deletable": true,
    "editable": true
   },
   "outputs": [],
   "source": [
    "# Test your function by generating and sorting a list of random numbers:\n",
    "x1 = np.random.randint(0,high=10000,size=(10))\n",
    "print(\"x1=\",x1)\n",
    "print(\"my_sort(x1)=\",my_sort(x1))"
   ]
  },
  {
   "cell_type": "code",
   "execution_count": null,
   "metadata": {
    "deletable": false,
    "editable": false,
    "nbgrader": {
     "checksum": "2922d0dbf6e9e58e717cdd7b7e256ba0",
     "grade": true,
     "grade_id": "sort_tests",
     "locked": true,
     "points": 5,
     "schema_version": 1,
     "solution": false
    }
   },
   "outputs": [],
   "source": [
    "import numpy as np\n",
    "\n",
    "x1 = np.random.randint(0,high=10000,size=(100) )\n",
    "x2 = np.random.randint(0,high=10000,size=(1000))\n",
    "assert( (np.sort(x) == my_sort(x)).all()   )\n",
    "assert( (np.sort(x2) == my_sort(x2)).all() )"
   ]
  }
 ],
 "metadata": {
  "kernelspec": {
   "display_name": "Python 3",
   "language": "python",
   "name": "python3"
  },
  "language_info": {
   "codemirror_mode": {
    "name": "ipython",
    "version": 3
   },
   "file_extension": ".py",
   "mimetype": "text/x-python",
   "name": "python",
   "nbconvert_exporter": "python",
   "pygments_lexer": "ipython3",
   "version": "3.5.2"
  }
 },
 "nbformat": 4,
 "nbformat_minor": 2
}
