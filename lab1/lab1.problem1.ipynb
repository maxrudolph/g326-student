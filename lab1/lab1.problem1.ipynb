{
 "cells": [
  {
   "cell_type": "markdown",
   "metadata": {
    "deletable": true,
    "editable": true
   },
   "source": [
    "# Problem 1:\n",
    "\n",
    "You will write a script that calculates and displays the first 20 Fibonacci numbers. Recall that the first Fibonacci number $F_1=0$ and the second Fibonacci number $F_2=1$. The rest of the Fibonacci numbers can be generated through iteration using the recurrence relation $F_n=F_{n-1}+F_{n-2}$.\n",
    "\n",
    "Write a function called next_fib that takes two arguments and returns the next Fibonacci number in the sequence:\n"
   ]
  },
  {
   "cell_type": "code",
   "execution_count": null,
   "metadata": {
    "deletable": false,
    "editable": true,
    "nbgrader": {
     "checksum": "f4e95fdf08eb0429a31c6d1eb1f35423",
     "grade": false,
     "grade_id": "nextfib",
     "locked": false,
     "schema_version": 1,
     "solution": true
    }
   },
   "outputs": [],
   "source": [
    "def next_fib(a,b):\n",
    "    # YOUR CODE HERE\n",
    "    raise NotImplementedError()\n",
    "    raise(NotImplementedError)"
   ]
  },
  {
   "cell_type": "markdown",
   "metadata": {
    "deletable": true,
    "editable": true
   },
   "source": [
    "Test the function that you just implemented. `next_fib(0,1)` should return $0+1=1$."
   ]
  },
  {
   "cell_type": "code",
   "execution_count": null,
   "metadata": {
    "deletable": false,
    "editable": false,
    "nbgrader": {
     "checksum": "e1dbb82f856c91161ba5ca180214986c",
     "grade": true,
     "grade_id": "test_nextfib",
     "locked": true,
     "points": 1,
     "schema_version": 1,
     "solution": false
    }
   },
   "outputs": [],
   "source": [
    "assert(next_fib(0,1)==1)\n",
    "assert(next_fib(1,1)==2)\n",
    "assert(next_fib(1,2)==3)"
   ]
  },
  {
   "cell_type": "markdown",
   "metadata": {
    "deletable": false,
    "editable": false,
    "nbgrader": {
     "checksum": "6fe68032dbe57c1b56b1106cec86fab1",
     "grade": false,
     "grade_id": "ro1",
     "locked": true,
     "schema_version": 1,
     "solution": false
    }
   },
   "source": [
    "Now write a function called fibonacci that takes one argument `n` and returns the list of the first `n` Fibonacci numbers. If $n<1$, your code should raise a `ValueError`. Your code must achieve this by calling the function `next_fib` that you defined previously."
   ]
  },
  {
   "cell_type": "code",
   "execution_count": null,
   "metadata": {
    "deletable": false,
    "editable": true,
    "nbgrader": {
     "checksum": "424bb3706614ad5f95701ad6d718f34c",
     "grade": false,
     "grade_id": "fibonacci",
     "locked": false,
     "schema_version": 1,
     "solution": true
    }
   },
   "outputs": [],
   "source": [
    "def fibonacci(n):\n",
    "    # YOUR CODE HERE\n",
    "    raise NotImplementedError()"
   ]
  },
  {
   "cell_type": "markdown",
   "metadata": {
    "deletable": false,
    "editable": false,
    "nbgrader": {
     "checksum": "b6aa5ad2e4ce779ca9f5b3ae4eb92d53",
     "grade": false,
     "grade_id": "ro2",
     "locked": true,
     "schema_version": 1,
     "solution": false
    }
   },
   "source": [
    "Test the function that you wrote. The first 5 fibonacci numbers are $[0,1,1,2,3]$. Verify that this is the answer that your code produces:"
   ]
  },
  {
   "cell_type": "code",
   "execution_count": null,
   "metadata": {
    "deletable": true,
    "editable": true
   },
   "outputs": [],
   "source": [
    "fibonacci(5)"
   ]
  },
  {
   "cell_type": "code",
   "execution_count": null,
   "metadata": {
    "deletable": false,
    "editable": false,
    "nbgrader": {
     "checksum": "774a3c3849fe562c89eece8afb9f7065",
     "grade": true,
     "grade_id": "test_fib",
     "locked": true,
     "points": 5,
     "schema_version": 1,
     "solution": false
    }
   },
   "outputs": [],
   "source": [
    "\"\"\"Test the fibonacci function for various use cases\"\"\"\n",
    "assert( fibonacci(1) == [0] )\n",
    "assert( fibonacci(2) == [0,1] )\n",
    "assert( fibonacci(5) == [0,1,1,2,3] )\n",
    "assert( fibonacci(10) == [0, 1, 1, 2, 3, 5, 8, 13, 21, 34] )"
   ]
  },
  {
   "cell_type": "code",
   "execution_count": null,
   "metadata": {
    "deletable": false,
    "editable": false,
    "nbgrader": {
     "checksum": "de9ae9245fca1bca12cbe15c1283b071",
     "grade": true,
     "grade_id": "test_rely",
     "locked": true,
     "points": 3,
     "schema_version": 1,
     "solution": false
    }
   },
   "outputs": [],
   "source": [
    "\"\"\"Verify that fibonacci relies on next_fib\"\"\"\n",
    "orig_nextfib = next_fib\n",
    "del next_fib\n",
    "try:\n",
    "    fibonacci(5)\n",
    "except NameError:\n",
    "    pass\n",
    "else:\n",
    "    raise AssertionError(\"fibonacci does not use next_fib\")\n",
    "finally:\n",
    "    next_fib = orig_nextfib"
   ]
  }
 ],
 "metadata": {
  "kernelspec": {
   "display_name": "Python 3",
   "language": "python",
   "name": "python3"
  },
  "language_info": {
   "codemirror_mode": {
    "name": "ipython",
    "version": 3
   },
   "file_extension": ".py",
   "mimetype": "text/x-python",
   "name": "python",
   "nbconvert_exporter": "python",
   "pygments_lexer": "ipython3",
   "version": "3.5.2"
  }
 },
 "nbformat": 4,
 "nbformat_minor": 2
}
