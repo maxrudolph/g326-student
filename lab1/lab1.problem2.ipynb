{
 "cells": [
  {
   "cell_type": "markdown",
   "metadata": {
    "deletable": true,
    "editable": true
   },
   "source": [
    "## Problem 2\n",
    "You have been provided with a set of x,y coordinates describing the location of the center line of a river. The sinuosity of a river is defined as:\n",
    "\n",
    "$S = \\frac{\\text{actual path length}}{\\text{shortest path length}}$\n",
    "\n",
    "Sinuosity is one of the most important parameters in fluvial geomorphology. Your task is to read in the data in ‘river_centerline.mat’, which contains two variables e_m and n_m that contain coordinates of the channel centerline in meters east and north of a reference point. Write a program that calculates the sinuosity for this reach of the river in question."
   ]
  },
  {
   "cell_type": "markdown",
   "metadata": {
    "deletable": true,
    "editable": true
   },
   "source": [
    "Write code to load the river centerline data from river_centerline.txt. Use the `loadtxt` command from `numpy`. Store the `x` or East coordinate in a variable called e_m and the `y` or North coordinate in a variable called n_m.\n"
   ]
  },
  {
   "cell_type": "code",
   "execution_count": null,
   "metadata": {
    "deletable": false,
    "editable": true,
    "nbgrader": {
     "checksum": "d5a4b9043deec946379b7d99f6c7dd1a",
     "grade": false,
     "grade_id": "loadtext",
     "locked": false,
     "schema_version": 1,
     "solution": true
    }
   },
   "outputs": [],
   "source": [
    "\"\"\"Write code to load the river centerline data from river_centerline.txt. Use the `loadtxt` command from numpy\"\"\"\n",
    "# YOUR CODE HERE\n",
    "raise NotImplementedError()"
   ]
  },
  {
   "cell_type": "code",
   "execution_count": null,
   "metadata": {
    "deletable": true,
    "editable": true
   },
   "outputs": [],
   "source": [
    "\"\"\"Check the shape of the variables that you just loaded\"\"\"\n",
    "np.shape(e_m)"
   ]
  },
  {
   "cell_type": "code",
   "execution_count": null,
   "metadata": {
    "deletable": false,
    "editable": false,
    "nbgrader": {
     "checksum": "344c3de76481409a0a28aa70d1eeccd0",
     "grade": true,
     "grade_id": "centerline",
     "locked": true,
     "points": 2,
     "schema_version": 1,
     "solution": false
    }
   },
   "outputs": [],
   "source": [
    "\"\"\"check for existence and correct shape of e_m and n_m\"\"\"\n",
    "import numpy as np\n",
    "if 'e_m' in locals() :\n",
    "    assert( np.shape(e_m) == (741,) )\n",
    "else:\n",
    "    raise(NameError)\n",
    "if 'n_m' in locals() :\n",
    "    assert( np.shape(n_m) == (741,) )\n",
    "else:\n",
    "    raise(NameError)"
   ]
  },
  {
   "cell_type": "markdown",
   "metadata": {
    "deletable": true,
    "editable": true
   },
   "source": [
    "Write a function called dist(x1,y1,x2,y2) that calculates and returns the straight-line distance between the points with coordinates (x1,y1) and (x2,y2)"
   ]
  },
  {
   "cell_type": "code",
   "execution_count": null,
   "metadata": {
    "deletable": false,
    "editable": true,
    "nbgrader": {
     "checksum": "84e58fa6afe4ebf54921b1b0ac060db1",
     "grade": false,
     "grade_id": "distance",
     "locked": false,
     "schema_version": 1,
     "solution": true
    }
   },
   "outputs": [],
   "source": [
    "def dist(x1,y1,x2,y2):\n",
    "    # YOUR CODE HERE\n",
    "    raise NotImplementedError()"
   ]
  },
  {
   "cell_type": "code",
   "execution_count": null,
   "metadata": {
    "deletable": false,
    "editable": false,
    "nbgrader": {
     "checksum": "b3a3d5992c64cace1be2bbc5a5e23d05",
     "grade": true,
     "grade_id": "test_dist",
     "locked": true,
     "points": 3,
     "schema_version": 1,
     "solution": false
    }
   },
   "outputs": [],
   "source": [
    "\"\"\"Test the distance function\"\"\"\n",
    "assert( dist(0,0,2,0) == 2)\n",
    "assert( dist(-1,-1,-1,0) == 1)\n",
    "assert( np.abs(dist(-1,-1,0,0) - np.sqrt(2)) <= 1E-16 )"
   ]
  },
  {
   "cell_type": "markdown",
   "metadata": {
    "deletable": true,
    "editable": true
   },
   "source": [
    "Now, write a function called sinuosity that takes two arguments: x and y. calculate and return the sinuosity. Use the dist function that you wrote previously."
   ]
  },
  {
   "cell_type": "code",
   "execution_count": null,
   "metadata": {
    "deletable": false,
    "editable": true,
    "nbgrader": {
     "checksum": "a5f2ddc688c685050c8c94de27e2490d",
     "grade": false,
     "grade_id": "sinuosity",
     "locked": false,
     "schema_version": 1,
     "solution": true
    }
   },
   "outputs": [],
   "source": [
    "def sinuosity(x,y):\n",
    "    # YOUR CODE HERE\n",
    "    raise NotImplementedError()"
   ]
  },
  {
   "cell_type": "code",
   "execution_count": null,
   "metadata": {
    "deletable": true,
    "editable": true
   },
   "outputs": [],
   "source": [
    "sinuosity(e_m,n_m)"
   ]
  },
  {
   "cell_type": "code",
   "execution_count": null,
   "metadata": {
    "deletable": false,
    "editable": false,
    "nbgrader": {
     "checksum": "71794e1ed57a56fc232b41602d53ac19",
     "grade": true,
     "grade_id": "test_sinuosity",
     "locked": true,
     "points": 5,
     "schema_version": 1,
     "solution": false
    }
   },
   "outputs": [],
   "source": [
    "\"\"\"Verify the correctness of the sinuosity result (within one percent)\"\"\"\n",
    "assert( np.abs( sinuosity(e_m,n_m)-1.7367516388813369 ) <= 0.017 )"
   ]
  },
  {
   "cell_type": "code",
   "execution_count": null,
   "metadata": {
    "deletable": false,
    "editable": false,
    "nbgrader": {
     "checksum": "fd902d39f333f86353712ffaba66cc44",
     "grade": true,
     "grade_id": "test_usedist",
     "locked": true,
     "points": 3,
     "schema_version": 1,
     "solution": false
    }
   },
   "outputs": [],
   "source": [
    "\"\"\"Verify that sinuosity used the dist function\"\"\"\n",
    "orig_dist = dist\n",
    "del dist\n",
    "try:\n",
    "    sinuosity([0,1],[0,1])\n",
    "except NameError:\n",
    "    pass\n",
    "else:\n",
    "    raise AssertionError(\"sinuosity() does not use dist()\")\n",
    "finally:\n",
    "    dist = orig_dist"
   ]
  },
  {
   "cell_type": "markdown",
   "metadata": {
    "deletable": true,
    "editable": true
   },
   "source": [
    "Finally, use matplotlib to make a plot of the river centerline. Your plot should:\n",
    "\n",
    "1. Have equal axis aspect ratio (i.e. 1 m on the x-axis should be the same size as 1 m on the y-axis)\n",
    "2. Have labeled axes\n",
    "3. Show the straight-line path from the first data point to the last data point with a dashed line in a contrasting color.\n",
    "4. Include a legend indicating the 'centerline' and 'shortest path'\n",
    "5. Have a descriptive title."
   ]
  },
  {
   "cell_type": "code",
   "execution_count": null,
   "metadata": {
    "deletable": false,
    "editable": true,
    "nbgrader": {
     "checksum": "cb727f5bb1c62b94ae272196e69924e7",
     "grade": true,
     "grade_id": "map_plot",
     "locked": false,
     "points": 5,
     "schema_version": 1,
     "solution": true
    }
   },
   "outputs": [],
   "source": [
    "\"\"\"Put your plotting code here:\"\"\"\n",
    "# YOUR CODE HERE\n",
    "raise NotImplementedError()"
   ]
  }
 ],
 "metadata": {
  "kernelspec": {
   "display_name": "Python 3",
   "language": "python",
   "name": "python3"
  },
  "language_info": {
   "codemirror_mode": {
    "name": "ipython",
    "version": 3
   },
   "file_extension": ".py",
   "mimetype": "text/x-python",
   "name": "python",
   "nbconvert_exporter": "python",
   "pygments_lexer": "ipython3",
   "version": "3.5.2"
  }
 },
 "nbformat": 4,
 "nbformat_minor": 2
}
