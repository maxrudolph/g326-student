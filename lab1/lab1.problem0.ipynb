{
 "cells": [
  {
   "cell_type": "markdown",
   "metadata": {
    "deletable": true,
    "editable": true
   },
   "source": [
    "# Welcome to Lab 1!\n",
    "\n",
    "Ways to get help:\n",
    "1. Copy and paste your error messages into google.\n",
    "2. Use the 'Help' menu above to find the help for the component of jupyter-notebook that you're struggling with.\n",
    "3. Enter `?command` to get help for a specific `command`. For instance `?np.ndarray.transpose`\n"
   ]
  },
  {
   "cell_type": "markdown",
   "metadata": {
    "deletable": true,
    "editable": true
   },
   "source": [
    "## Part 1\n",
    "We will do some exercises to learn how to use the the numpy and scipy modules included with jupyter. Python itself has only limited functionality for doing numerical calculations, so we will make extensive use of the numpy library (a collection of programs) to do numerical work. In order to load numpy, you will always need to use the 'import' command. For consistency I recommend always importing numpy as np like so:"
   ]
  },
  {
   "cell_type": "code",
   "execution_count": null,
   "metadata": {
    "deletable": true,
    "editable": true
   },
   "outputs": [],
   "source": [
    "import numpy as np"
   ]
  },
  {
   "cell_type": "markdown",
   "metadata": {
    "deletable": true,
    "editable": true
   },
   "source": [
    "We will very frequently need to work with scalars, vectors, and matrices in order to develop numerical models. Below are examples showing how we can define each."
   ]
  },
  {
   "cell_type": "code",
   "execution_count": null,
   "metadata": {
    "deletable": true,
    "editable": true
   },
   "outputs": [],
   "source": [
    "a=1.0 # a is a scalar\n",
    "print(\"a=\",a)\n",
    "b=np.array([[1., 2., 3., 4., 5.]]) # b is a row vector\n",
    "print(\"b=\",b)\n",
    "c=np.array([[1.], [2.], [3.], [4.], [5.]]) # c is a column vector\n",
    "print(\"c=\",c)"
   ]
  },
  {
   "cell_type": "markdown",
   "metadata": {
    "deletable": true,
    "editable": true
   },
   "source": [
    "Notice that the way that we entered c above is quite tedious due to the nested square brackets `[]` enclosing each row. Instead of using square brackets, we could instead define c as a row vector and then take its transpose:"
   ]
  },
  {
   "cell_type": "code",
   "execution_count": null,
   "metadata": {
    "deletable": true,
    "editable": true
   },
   "outputs": [],
   "source": [
    "c=np.array([[1., 2., 3., 4., 5.]]).transpose()"
   ]
  },
  {
   "cell_type": "markdown",
   "metadata": {
    "deletable": true,
    "editable": true
   },
   "source": [
    "In the cell above, we accessed the `transpose()` method of the NumPy array holding our data. NumPy conveniently provides many methods that operate on NumPy arrays. If you want to see a list of all of the available methods, go to Help->NumPy and click on the documentation for `ndarray` OR you can do the following:"
   ]
  },
  {
   "cell_type": "code",
   "execution_count": null,
   "metadata": {
    "deletable": true,
    "editable": true
   },
   "outputs": [],
   "source": [
    "?np.ndarray.*"
   ]
  },
  {
   "cell_type": "markdown",
   "metadata": {
    "deletable": true,
    "editable": true
   },
   "source": [
    "We can also create matrices and store them using numpy ndarray objects:"
   ]
  },
  {
   "cell_type": "code",
   "execution_count": null,
   "metadata": {
    "deletable": true,
    "editable": true
   },
   "outputs": [],
   "source": [
    "a = np.array([[1, 2, 3],[4, 5, 6], [7,8,9],[10,11,12]])\n",
    "print(a)"
   ]
  },
  {
   "cell_type": "markdown",
   "metadata": {
    "deletable": true,
    "editable": true
   },
   "source": [
    "What are the dimensions of the n-dimensional array `a`?"
   ]
  },
  {
   "cell_type": "markdown",
   "metadata": {
    "deletable": false,
    "editable": true,
    "nbgrader": {
     "checksum": "74deda3606fe5bc6513a8c946bced771",
     "grade": true,
     "grade_id": "a_dimensions",
     "locked": false,
     "points": 2,
     "schema_version": 1,
     "solution": true
    }
   },
   "source": [
    "YOUR ANSWER HERE"
   ]
  },
  {
   "cell_type": "markdown",
   "metadata": {
    "deletable": true,
    "editable": true
   },
   "source": [
    "Frequently, it's convenient to start by creating matrices filled with zeroes. NumPy has a routine to help us accomplish this called `zeroes`:"
   ]
  },
  {
   "cell_type": "code",
   "execution_count": null,
   "metadata": {
    "deletable": true,
    "editable": true
   },
   "outputs": [],
   "source": [
    "zm = np.zeros((8,10))\n",
    "print(\"zm=\",zm)"
   ]
  },
  {
   "cell_type": "code",
   "execution_count": null,
   "metadata": {
    "deletable": true,
    "editable": true
   },
   "outputs": [],
   "source": [
    "\"\"\"We can use the shape method to find the shape of zm.\"\"\"\n",
    "print(zm.shape)"
   ]
  },
  {
   "cell_type": "code",
   "execution_count": null,
   "metadata": {
    "deletable": true,
    "editable": true
   },
   "outputs": [],
   "source": [
    "\"\"\"Frequently, we will want to loop over the rows in a matrix like zm and modify its contents\"\"\"\n",
    "m, n = zm.shape\n",
    "for i in range(m):\n",
    "    zm[i][i] = 1.0 # assign a value of 1.0 to the diagonal entry of each row in zm.\n",
    "print(zm)"
   ]
  },
  {
   "cell_type": "markdown",
   "metadata": {
    "deletable": true,
    "editable": true
   },
   "source": [
    "Exercise: write some code to generate the 'Laplacian' operator (a matrix) containing the entries:<br>\n",
    "`\n",
    "[[-2  1  0  0  0  0 ... 0  0  0  0] \n",
    " [ 0  1 -2  1  0  0 ... 0  0  0  0]\n",
    " [ 0  0  1 -2  1  0 ... 0  0  0  0]\n",
    " ...\n",
    " [ 0  0  0  0  0  0 ... 0  1 -2  1]\n",
    " [ 0  0  0  0  0  0 ... 0  0  1 -2]]`"
   ]
  },
  {
   "cell_type": "code",
   "execution_count": null,
   "metadata": {
    "deletable": false,
    "editable": true,
    "nbgrader": {
     "checksum": "f637c81e637ab0bc71ff7bbbe784cd5d",
     "grade": false,
     "grade_id": "laplacian",
     "locked": false,
     "schema_version": 1,
     "solution": true
    }
   },
   "outputs": [],
   "source": [
    "def laplacian(n):\n",
    "    L = np.zeros((n,n)) # create the n-by-n matrix\n",
    "    # YOUR CODE HERE\n",
    "    raise NotImplementedError()\n",
    "    return L"
   ]
  },
  {
   "cell_type": "code",
   "execution_count": null,
   "metadata": {
    "deletable": false,
    "editable": false,
    "nbgrader": {
     "checksum": "c09d1c7dd6e96c8abd6087a838b625eb",
     "grade": true,
     "grade_id": "test_laplacian",
     "locked": true,
     "points": 5,
     "schema_version": 1,
     "solution": false
    }
   },
   "outputs": [],
   "source": [
    "\"\"\"Test for correct output\"\"\"\n",
    "assert( (laplacian(3) == np.array( [[-2.,1.,0.],[1.,-2.,1.],[0.,1.,-2.]])).all() )\n",
    "assert( (laplacian(4) == np.array( [[-2.,1.,0.,0.],[1.,-2.,1.,0.],[0.,1.,-2.,1.],[0.,0.,1.,-2.]])).all() )\n",
    "assert( (laplacian(10) == np.array([[-2.,  1.,  0.,  0.,  0.,  0.,  0.,  0.,  0.,  0.],\n",
    "       [ 1., -2.,  1.,  0.,  0.,  0.,  0.,  0.,  0.,  0.],\n",
    "       [ 0.,  1., -2.,  1.,  0.,  0.,  0.,  0.,  0.,  0.],\n",
    "       [ 0.,  0.,  1., -2.,  1.,  0.,  0.,  0.,  0.,  0.],\n",
    "       [ 0.,  0.,  0.,  1., -2.,  1.,  0.,  0.,  0.,  0.],\n",
    "       [ 0.,  0.,  0.,  0.,  1., -2.,  1.,  0.,  0.,  0.],\n",
    "       [ 0.,  0.,  0.,  0.,  0.,  1., -2.,  1.,  0.,  0.],\n",
    "       [ 0.,  0.,  0.,  0.,  0.,  0.,  1., -2.,  1.,  0.],\n",
    "       [ 0.,  0.,  0.,  0.,  0.,  0.,  0.,  1., -2.,  1.],\n",
    "       [ 0.,  0.,  0.,  0.,  0.,  0.,  0.,  0.,  1., -2.]])).all())"
   ]
  }
 ],
 "metadata": {
  "kernelspec": {
   "display_name": "Python 3",
   "language": "python",
   "name": "python3"
  },
  "language_info": {
   "codemirror_mode": {
    "name": "ipython",
    "version": 3
   },
   "file_extension": ".py",
   "mimetype": "text/x-python",
   "name": "python",
   "nbconvert_exporter": "python",
   "pygments_lexer": "ipython3",
   "version": "3.5.2"
  }
 },
 "nbformat": 4,
 "nbformat_minor": 2
}
