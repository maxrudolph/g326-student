{
 "cells": [
  {
   "cell_type": "markdown",
   "metadata": {
    "deletable": false,
    "editable": false,
    "nbgrader": {
     "checksum": "9c0c5b43a786dda5952bf1167348ab5c",
     "grade": false,
     "grade_id": "header",
     "locked": true,
     "schema_version": 1,
     "solution": false
    }
   },
   "source": [
    "# G326: Lab 5\n",
    "\n",
    "This week's lab includes a problem set and pencil/paper exercises. Please go to D2L to access the written component. This lab and the written problems are all **due at the beginning of lab next Tuesday**.\n",
    "\n"
   ]
  },
  {
   "cell_type": "markdown",
   "metadata": {
    "deletable": false,
    "editable": false,
    "nbgrader": {
     "checksum": "1576318df7f7a01428a899f76b4438a8",
     "grade": false,
     "grade_id": "part5aq",
     "locked": true,
     "schema_version": 1,
     "solution": false
    }
   },
   "source": [
    "**The Gradient and Laplacian in 2D**\n",
    "\n",
    "Consider the temperature distribution given by the function:\n",
    "\n",
    "$$ T(x,y) = x\\cdot y\\cdot \\exp \\left(-\\frac{\\sqrt{x^2+y^2}^2}{\\pi}\\right) $$\n",
    "\n",
    "(we'll assume that the temperature is expressed in $^\\circ C$ so that negative values are meaningful). \n",
    "\n",
    "**use jupyter and matplotlib to make a 3D surface plot of T(x,y) on the domain**\n",
    "\n",
    "$$-2\\pi \\le x\\le 2\\pi$$, \n",
    "$$-2\\pi\\le y\\le 2\\pi$$\n",
    "\n",
    "(i.e. a square with side length $4\\pi$ centered at the origin)\n",
    "\n",
    "*The information here may help you figure out how to make surface plots:*\n",
    "https://matplotlib.org/mpl_toolkits/mplot3d/tutorial.html\n",
    "\n",
    "**Your figure should contain, at the very least:**\n",
    "1. A color scale that includes a label\n",
    "2. Appropriately labeled x, y, and z axes"
   ]
  },
  {
   "cell_type": "code",
   "execution_count": null,
   "metadata": {
    "deletable": false,
    "nbgrader": {
     "checksum": "54aa0c42dc6e74f44c6be0b8815cd792",
     "grade": true,
     "grade_id": "part5aa",
     "locked": false,
     "points": 6,
     "schema_version": 1,
     "solution": true
    }
   },
   "outputs": [],
   "source": [
    "# YOUR CODE HERE\n",
    "raise NotImplementedError()"
   ]
  },
  {
   "cell_type": "markdown",
   "metadata": {
    "deletable": false,
    "editable": false,
    "nbgrader": {
     "checksum": "afb5339b48352d8197b8c94c670885ce",
     "grade": false,
     "grade_id": "part5bq",
     "locked": true,
     "schema_version": 1,
     "solution": false
    }
   },
   "source": [
    "Calculate (analytically, not using the computer) the gradient $\\nabla T$ (it will be a vector). Show your work below."
   ]
  },
  {
   "cell_type": "markdown",
   "metadata": {
    "deletable": false,
    "nbgrader": {
     "checksum": "afe5d89cfb436d03299432ee2924e9e7",
     "grade": true,
     "grade_id": "part5ba",
     "locked": false,
     "points": 4,
     "schema_version": 1,
     "solution": true
    }
   },
   "source": [
    "YOUR ANSWER HERE"
   ]
  },
  {
   "cell_type": "markdown",
   "metadata": {
    "deletable": false,
    "editable": false,
    "nbgrader": {
     "checksum": "970f672b6b265916bf140c929074f2a9",
     "grade": false,
     "grade_id": "part5cq",
     "locked": true,
     "schema_version": 1,
     "solution": false
    }
   },
   "source": [
    "Calculate (again, analytically) the Laplacian $\\nabla^2 T$. It should be a scalar!"
   ]
  },
  {
   "cell_type": "markdown",
   "metadata": {
    "deletable": false,
    "nbgrader": {
     "checksum": "7ee2960e2590c696aebbaa75ed149793",
     "grade": true,
     "grade_id": "part5ca",
     "locked": false,
     "points": 4,
     "schema_version": 1,
     "solution": true
    }
   },
   "source": [
    "YOUR ANSWER HERE"
   ]
  },
  {
   "cell_type": "markdown",
   "metadata": {
    "deletable": false,
    "editable": false,
    "nbgrader": {
     "checksum": "4dbce138c6eefdb288936ccc2b763e81",
     "grade": false,
     "grade_id": "part5dq",
     "locked": true,
     "schema_version": 1,
     "solution": false
    }
   },
   "source": [
    "1. Use matplotlib to make a contour plot or filled contour plot of the temperature field T(x,y).\n",
    "2. On the same plot, add vectors representing $\\nabla T$.\n",
    "\n",
    "** Make sure that the axes are 'equal' so that the vectors are perpendicular to the contours **"
   ]
  },
  {
   "cell_type": "code",
   "execution_count": null,
   "metadata": {
    "deletable": false,
    "nbgrader": {
     "checksum": "16fa76070a66d773412ea9c647b4b6c4",
     "grade": true,
     "grade_id": "part5da",
     "locked": false,
     "points": 6,
     "schema_version": 1,
     "solution": true
    }
   },
   "outputs": [],
   "source": [
    "# YOUR CODE HERE\n",
    "raise NotImplementedError()"
   ]
  },
  {
   "cell_type": "markdown",
   "metadata": {
    "deletable": false,
    "editable": false,
    "nbgrader": {
     "checksum": "350c2130fe18db32b4b8e165cd37c0b7",
     "grade": false,
     "grade_id": "part5eq",
     "locked": true,
     "schema_version": 1,
     "solution": false
    }
   },
   "source": [
    "Calculate and make a filled contour plot (using 'contourf') of $\\nabla^2 T$ (which is the same as $\\nabla\\cdot(\\nabla T)$).\n",
    "Add a contour line indicating T(x,y)=0$"
   ]
  },
  {
   "cell_type": "code",
   "execution_count": null,
   "metadata": {
    "deletable": false,
    "nbgrader": {
     "checksum": "5b32fab7a8f7136be21d466659a2da91",
     "grade": true,
     "grade_id": "part5ea",
     "locked": false,
     "points": 6,
     "schema_version": 1,
     "solution": true
    }
   },
   "outputs": [],
   "source": [
    "# YOUR CODE HERE\n",
    "raise NotImplementedError()"
   ]
  },
  {
   "cell_type": "markdown",
   "metadata": {
    "deletable": false,
    "editable": false,
    "nbgrader": {
     "checksum": "3dc86600ef706bbfee0bb2abc254189f",
     "grade": false,
     "grade_id": "lastpart",
     "locked": true,
     "schema_version": 1,
     "solution": false
    }
   },
   "source": [
    "Recall that when solving the heat equation in space and time, temperature will tend to decrease where $\\nabla\\cdot(\\nabla T)$ is negative and increase where $\\nabla\\cdot(\\nabla T)$ is positive. Where (if anywhere) would you expect temperature to **increase most rapidly** in the domain? Where (if anywhere) would you expect temperature to **decrease most rapidly** in the domain? Where, if anywhere, would temperature **not change**?"
   ]
  },
  {
   "cell_type": "markdown",
   "metadata": {
    "deletable": false,
    "nbgrader": {
     "checksum": "ce7a66ed177f0edaf3cbe54089b8b96c",
     "grade": true,
     "grade_id": "lastparta",
     "locked": false,
     "points": 6,
     "schema_version": 1,
     "solution": true
    }
   },
   "source": [
    "YOUR ANSWER HERE"
   ]
  }
 ],
 "metadata": {
  "kernelspec": {
   "display_name": "Python [default]",
   "language": "python",
   "name": "python3"
  },
  "language_info": {
   "codemirror_mode": {
    "name": "ipython",
    "version": 3
   },
   "file_extension": ".py",
   "mimetype": "text/x-python",
   "name": "python",
   "nbconvert_exporter": "python",
   "pygments_lexer": "ipython3",
   "version": "3.5.3"
  }
 },
 "nbformat": 4,
 "nbformat_minor": 2
}
