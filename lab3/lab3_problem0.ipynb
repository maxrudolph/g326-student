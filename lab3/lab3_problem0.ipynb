{
 "cells": [
  {
   "cell_type": "markdown",
   "metadata": {
    "deletable": false,
    "editable": false,
    "nbgrader": {
     "checksum": "96908f9d88286836009b4aa970f4e671",
     "grade": false,
     "grade_id": "title",
     "locked": true,
     "schema_version": 1,
     "solution": false
    }
   },
   "source": [
    "# G326: Lab 3\n",
    "This week we will use the computer as tool to solve a differential equation. The differential equation that you will solve describes the time evolution of many zero-dimensional (box) models. The form of the solution is by now very familiar and leads to exponential behavior in time. In general, when an analytic solution exists, it is preferable to use this solution. However, because this may be the first time that you've solved equations numerically, I have chosen a problem that has an analytic solution so that you can *verify* that your numerical solution is correct. The numerical solutions that you obtain should all be very similar to the exact solution (within a few percent, usually much closer).\n",
    "\n",
    "Recall the general form of the decay equation:\n",
    "\n",
    "$$\\begin{equation}\n",
    "\\frac{d u}{dt} = -\\lambda u                \n",
    "\\end{equation}$$\n",
    "\n",
    "subject to the Initial Condition (IC):\n",
    "\n",
    "$$u(0) = u_0$$.\n",
    "\n",
    "Here, $u(t)$ is the amount of a radioisotope. This equation has a simple analytic solution for $u(t)$ with which you are familiar. In general, when we obtain an analytic solution to a differential equation, we obtain an expression that allows us to calculate the value of $u(t)$ for every time $t$. On the other hand, when we obtain a numerical solution to this equation, we will calculate approximate values of the solution at specific, discrete, times. For now, we will assume that these times are uniformly spaced, with spacing $k$. We refer to this spacing $k$ as the time step. We use a superscript $n$ to denote the time corresponding to the $n$-th time. We can state mathematically the relationship between the $n$-th time and the preceding time:\n",
    "\n",
    "$$\\begin{equation}\n",
    "t^n = t^{n-1}+k\n",
    "\\end{equation}$$\n",
    "\n",
    "**Note that here the superscript $n$ is NOT an exponent.** It is an index referring to the $n$-th time at which we obtain an approximation to the solution. The reason that we use this seemingly confusing notation is that we will later use subscripts to denote spatial indices.\n",
    "\n",
    "\n",
    "We will refer to the approximation to the function $u(t)$ at time $t=t^n$ as $u(t^n)=u^n$. Again, $n$ is **not** an exponent - it is a superscript identifying the time at which a solution is obtained.\n",
    "Now that we have *discretized* time and introduced notation for the values of the dependent and independent variables at each time step, we need to discuss how we might go about approximating the derivative $\\frac{d u}{dt}$ numerically. We will consider four choices today and express them in terms of the general first-order ordinary differential equation:\n",
    "\n",
    "$$\\begin{equation}\n",
    "\\frac{d u}{dt} = f(u(t),t)\n",
    "\\end{equation}$$\n",
    "\n",
    "In all cases, we obtain a numerical approximation by introducing a discrete approximation to the derivative $\\frac{du}{dt}$ at time $t^n$. The first choice is referred to as \\textit{forward Euler} or sometimes \\textit{Euler's method} and involves the approximation:\n",
    "\n",
    "$$\\begin{equation}\n",
    "\\frac{d u}{dt}\\bigg|_{t=t^{n}} = \\frac{u^{n+1}-u^{n}}{k} \n",
    "\\end{equation}$$\n",
    "\n",
    "$$\\begin{equation}\n",
    "\\frac{u^{n+1}-u^{n}}{k} = f(u^{n},t^{n})\n",
    "\\end{equation}$$\n",
    "\n",
    "**Important: In expressions involving superscripts that refer to a particular instant in time (e.g. $t^n$), we can always replace $n$ with any other expression. For instance, we can substitute $m=n+1$ in the previoux equation to obtain:**\n",
    "\n",
    "$$\\begin{equation}\n",
    "\\frac{u^{m}-u^{m-1}}{k} = f(u^{m-1},t^{m-1})\n",
    "\\end{equation}$$\n",
    "\n",
    "Note that here, when calculating the value of $u(t)$ at time $t^{n}$, the function $f$ is evaluated at the previous time $t^{n-1}$. Because this method involves only the value of the solution at time $t^{n-1}$, it is called an *explicit* method.\n"
   ]
  },
  {
   "cell_type": "markdown",
   "metadata": {
    "deletable": false,
    "editable": false,
    "nbgrader": {
     "checksum": "779d6bc91d954ea0990ca53c9e5f638a",
     "grade": false,
     "grade_id": "q1",
     "locked": true,
     "schema_version": 1,
     "solution": false
    }
   },
   "source": [
    "**Part 1:** What is the analytic solution to equation 1? *(Hint: This is a warm-up problem and should be pretty easy after last week's lab!)*\n",
    "\n"
   ]
  },
  {
   "cell_type": "markdown",
   "metadata": {
    "deletable": false,
    "editable": true,
    "nbgrader": {
     "checksum": "9eb5ca750d5491ab3fd984ce3b7f341e",
     "grade": true,
     "grade_id": "q1_ans",
     "locked": false,
     "points": 3,
     "schema_version": 1,
     "solution": true
    }
   },
   "source": [
    "YOUR ANSWER HERE"
   ]
  },
  {
   "cell_type": "markdown",
   "metadata": {
    "deletable": false,
    "editable": false,
    "nbgrader": {
     "checksum": "e62ab311a9982afa5aef6f8dba5d4370",
     "grade": false,
     "grade_id": "q2",
     "locked": true,
     "schema_version": 1,
     "solution": false
    }
   },
   "source": [
    "**Part 2:**\n",
    "1. Create a time vector called `t`. It is good programming practice in general to first create variables representing the initial time, the final time, and the number of time steps. Then, if you need to refer to these values elsewhere in your program, you can use the variable names rather than typing in a numerical constant. If you decide, for instance, that you need to revise your code and take smaller time steps (this is a hint of things to come...), you can do so with a one-line change instead of changing every instance of the number of time steps. \n",
    "\n",
    "2. Define nt as the number of time steps to be taken, tmin as the starting time, and tmax as the ending time. For now, you should begin at time t=0, end at time t = 4.5 Gyr, and take 20 time steps. \n",
    "\n",
    "3. Calculate k (the time step) and assign it to a variable called k. We will use the value λ = 0.6/Gyr throughout this assignment. \n",
    "\n",
    "4. In this first code block, it is good practice to define all of the parameters that you will need to refer to in the code. Define a variable called `lam` and refer to this variable name rather than entering numerical constants. Also define a variable called `u0` that holds the initial value, $u_0$. Assume that the initial value $u_0=3\\times 10^5$.\n"
   ]
  },
  {
   "cell_type": "code",
   "execution_count": null,
   "metadata": {
    "deletable": false,
    "editable": true,
    "nbgrader": {
     "checksum": "5335b2c8187d460e5fb21ec27b679b52",
     "grade": false,
     "grade_id": "q2_response",
     "locked": false,
     "schema_version": 1,
     "solution": true
    }
   },
   "outputs": [],
   "source": [
    "# YOUR CODE HERE\n",
    "raise NotImplementedError()"
   ]
  },
  {
   "cell_type": "code",
   "execution_count": null,
   "metadata": {
    "deletable": false,
    "editable": false,
    "nbgrader": {
     "checksum": "cc1b0727f49d4ea53cb2bde58f19bd9e",
     "grade": true,
     "grade_id": "q2_t1",
     "locked": true,
     "points": 3,
     "schema_version": 1,
     "solution": false
    }
   },
   "outputs": [],
   "source": [
    "# Check that t is the right size, with correct first and last values\n",
    "assert( nt == 20 )\n",
    "assert( len(t) == nt )\n",
    "assert( t[0] == 0. )\n",
    "assert( t[-1] == 4.5)"
   ]
  },
  {
   "cell_type": "code",
   "execution_count": null,
   "metadata": {
    "deletable": false,
    "editable": false,
    "nbgrader": {
     "checksum": "e87370a448140cf8398a13446fef8e47",
     "grade": true,
     "grade_id": "q2_t2",
     "locked": true,
     "points": 2,
     "schema_version": 1,
     "solution": false
    }
   },
   "outputs": [],
   "source": [
    "# Check that the time step and the time vector are set consistently\n",
    "assert( np.abs( (t[1]-t[0]) - k < 1e-15 )  )"
   ]
  },
  {
   "cell_type": "code",
   "execution_count": null,
   "metadata": {
    "deletable": false,
    "editable": false,
    "nbgrader": {
     "checksum": "879f11740eb905c98c6c162db074ec7d",
     "grade": true,
     "grade_id": "q2_t3",
     "locked": true,
     "points": 2,
     "schema_version": 1,
     "solution": false
    }
   },
   "outputs": [],
   "source": [
    "# Check for correct values of lam and u0.\n",
    "assert( lam==0.6 )\n",
    "assert( u0== 3.0e5 )"
   ]
  },
  {
   "cell_type": "markdown",
   "metadata": {
    "deletable": false,
    "editable": false,
    "nbgrader": {
     "checksum": "ae329c8dabd2ff0da4df1045a9b9f603",
     "grade": false,
     "grade_id": "q3",
     "locked": true,
     "schema_version": 1,
     "solution": false
    }
   },
   "source": [
    "**Part 3** Create a new vector called `uexact` that contains the exact values of u(t) calculated from your analytic solution from Part 1. The values in `uexact` here should correspond to the times listed in the time vector in Part 2. "
   ]
  },
  {
   "cell_type": "code",
   "execution_count": null,
   "metadata": {
    "deletable": false,
    "editable": true,
    "nbgrader": {
     "checksum": "a95b16b629484573e6c8ae3e8af61b25",
     "grade": false,
     "grade_id": "q3a",
     "locked": false,
     "schema_version": 1,
     "solution": true
    }
   },
   "outputs": [],
   "source": [
    "# YOUR CODE HERE\n",
    "raise NotImplementedError()"
   ]
  },
  {
   "cell_type": "code",
   "execution_count": null,
   "metadata": {
    "deletable": false,
    "editable": false,
    "nbgrader": {
     "checksum": "4c49d77f7a16bfa548416d1c60863180",
     "grade": true,
     "grade_id": "q3_t2",
     "locked": true,
     "points": 2,
     "schema_version": 1,
     "solution": false
    }
   },
   "outputs": [],
   "source": [
    "assert( uexact.shape == t.shape )"
   ]
  },
  {
   "cell_type": "markdown",
   "metadata": {
    "deletable": false,
    "editable": false,
    "nbgrader": {
     "checksum": "5346a066b39e9c501c9366f61366f64f",
     "grade": false,
     "grade_id": "q4",
     "locked": true,
     "schema_version": 1,
     "solution": false
    }
   },
   "source": [
    "**Part 4** Create a new vector called ‘ufe’ with the same dimensions as your time vector. This vector will hold your numerical solution to equation (1). Set the first element in ufe, which corresponds to time t=0, to the initial value of u."
   ]
  },
  {
   "cell_type": "code",
   "execution_count": null,
   "metadata": {
    "deletable": false,
    "editable": true,
    "nbgrader": {
     "checksum": "7c35dd590c9c75b5d92945161bc8e730",
     "grade": false,
     "grade_id": "q4a",
     "locked": false,
     "schema_version": 1,
     "solution": true
    }
   },
   "outputs": [],
   "source": [
    "# YOUR CODE HERE\n",
    "raise NotImplementedError()"
   ]
  },
  {
   "cell_type": "code",
   "execution_count": null,
   "metadata": {
    "deletable": false,
    "editable": false,
    "nbgrader": {
     "checksum": "b46bb431d952b18d74a0053656af93b0",
     "grade": true,
     "grade_id": "q4t1",
     "locked": true,
     "points": 4,
     "schema_version": 1,
     "solution": false
    }
   },
   "outputs": [],
   "source": [
    "# Note: it is really important that these tests pass - ask for help if your code is not working.\n",
    "assert( ufe.shape == t.shape )\n",
    "assert( ufe[0] == u0 )"
   ]
  },
  {
   "cell_type": "markdown",
   "metadata": {
    "deletable": false,
    "editable": false,
    "nbgrader": {
     "checksum": "fa98069b268f5663f9493a974e6856b0",
     "grade": false,
     "grade_id": "q5a",
     "locked": true,
     "schema_version": 1,
     "solution": false
    }
   },
   "source": [
    "**Part 5a** Derive a formula (and write it here) for $u^{n+1}$ in terms of $u^n$ using the forward Euler method described above."
   ]
  },
  {
   "cell_type": "markdown",
   "metadata": {
    "deletable": false,
    "editable": true,
    "nbgrader": {
     "checksum": "d88a125e4ba995639ee5cb82ba5eaab1",
     "grade": true,
     "grade_id": "q5a1",
     "locked": false,
     "points": 4,
     "schema_version": 1,
     "solution": true
    }
   },
   "source": [
    "YOUR ANSWER HERE"
   ]
  },
  {
   "cell_type": "markdown",
   "metadata": {
    "deletable": false,
    "editable": false,
    "nbgrader": {
     "checksum": "b13dc26d68d052b3eb45a69b7f18ccc4",
     "grade": false,
     "grade_id": "q5b",
     "locked": true,
     "schema_version": 1,
     "solution": false
    }
   },
   "source": [
    "**Part 5b** Use a ‘for’ loop to loop over the remaining time steps and populate ufe[1] through ufe[nt-1], where nt is the total number of time steps taken. "
   ]
  },
  {
   "cell_type": "code",
   "execution_count": null,
   "metadata": {
    "deletable": false,
    "editable": true,
    "nbgrader": {
     "checksum": "9d7c8321ed2391d1f9cd8e0b2add1bcd",
     "grade": false,
     "grade_id": "q5a2",
     "locked": false,
     "schema_version": 1,
     "solution": true
    }
   },
   "outputs": [],
   "source": [
    "# YOUR CODE HERE\n",
    "raise NotImplementedError()"
   ]
  },
  {
   "cell_type": "markdown",
   "metadata": {
    "deletable": false,
    "editable": false,
    "nbgrader": {
     "checksum": "57471a9ba45de5540a80e26a79ffe12b",
     "grade": false,
     "grade_id": "q5c",
     "locked": true,
     "schema_version": 1,
     "solution": false
    }
   },
   "source": [
    "**Part 5c** Make a plot showing time on the horizontal axis and 'u' on the vertical axis. Plot your numerical solution `ufe` using a solid black line and plot the analytic solution `uexact` using a red dashed line. Add a legend labeling the exact and forward Euler solutions. *Hint: they should agree quite well*"
   ]
  },
  {
   "cell_type": "code",
   "execution_count": null,
   "metadata": {
    "deletable": false,
    "editable": true,
    "nbgrader": {
     "checksum": "eb32765f23274e03a46c7545178adf91",
     "grade": true,
     "grade_id": "q5c1",
     "locked": false,
     "points": 5,
     "schema_version": 1,
     "solution": true
    }
   },
   "outputs": [],
   "source": [
    "# YOUR CODE HERE\n",
    "raise NotImplementedError()"
   ]
  },
  {
   "cell_type": "code",
   "execution_count": null,
   "metadata": {
    "deletable": false,
    "editable": false,
    "nbgrader": {
     "checksum": "8fb8a250d391f310103be2ffc5f304ec",
     "grade": true,
     "grade_id": "q5ct1",
     "locked": true,
     "points": 5,
     "schema_version": 1,
     "solution": false
    }
   },
   "outputs": [],
   "source": [
    "# Check for good agreement between exact and numerical solutions\n",
    "assert( np.linalg.norm(ufe-uexact)/np.linalg.norm(uexact) <= 0.20 )\n",
    "assert( np.abs(ufe[-1]-16306.746517096166) < 160 )"
   ]
  },
  {
   "cell_type": "markdown",
   "metadata": {
    "deletable": false,
    "editable": false,
    "nbgrader": {
     "checksum": "b693a4c8666db1ada4f2cf5ffbb1d724",
     "grade": false,
     "grade_id": "q6",
     "locked": true,
     "schema_version": 1,
     "solution": false
    }
   },
   "source": [
    "# Part 6: Backwards Euler method\n",
    "Our second choice of time integration scheme is called the Backwards Euler method:\n",
    "$$\\begin{equation}\n",
    "\\frac{d u}{dt}\\bigg|_{t=t^{n}} = \\frac{u^{n}-u^{n-1}}{k} \n",
    "\\end{equation}$$\n",
    "\n",
    "$$\\begin{equation}\n",
    "\\frac{u^{n}-u^{n-1}}{k} = f(u^{n},t^{n})\n",
    "\\end{equation}$$\n",
    "Note that here, we need to be able to solve the above equation for $u^{n}$, which may not be possible for some choices of $f$. Because this method requires knowledge of $f(u^{n},t^n)$ it is called an *implicit* method.\n",
    "\n",
    "Derive a formula (and write it here) for $u^{n+1}$  in terms of $u^n$ using the Backwards Euler method: (show your work)"
   ]
  },
  {
   "cell_type": "markdown",
   "metadata": {
    "deletable": false,
    "editable": true,
    "nbgrader": {
     "checksum": "760631148bfd1b431c2b62f84220f8b1",
     "grade": true,
     "grade_id": "q6a1",
     "locked": false,
     "points": 4,
     "schema_version": 1,
     "solution": true
    }
   },
   "source": [
    "YOUR ANSWER HERE"
   ]
  },
  {
   "cell_type": "markdown",
   "metadata": {
    "deletable": false,
    "editable": false,
    "nbgrader": {
     "checksum": "44d94715c3f005add9599d9ebf37af35",
     "grade": false,
     "grade_id": "q6b",
     "locked": true,
     "schema_version": 1,
     "solution": false
    }
   },
   "source": [
    "Now, create a new array called `ube` with the same dimensions as the time vector. Use a `for` loop to calculate an approximate solution using the Backwards Euler method:"
   ]
  },
  {
   "cell_type": "code",
   "execution_count": null,
   "metadata": {
    "deletable": false,
    "editable": true,
    "nbgrader": {
     "checksum": "16cabc804dc0e4820e2bdf0230edba9a",
     "grade": true,
     "grade_id": "q6b1",
     "locked": false,
     "points": 3,
     "schema_version": 1,
     "solution": true
    }
   },
   "outputs": [],
   "source": [
    "# YOUR CODE HERE\n",
    "raise NotImplementedError()"
   ]
  },
  {
   "cell_type": "code",
   "execution_count": null,
   "metadata": {
    "deletable": false,
    "editable": false,
    "nbgrader": {
     "checksum": "7d0329fca2ca10b31be551b71905e72c",
     "grade": true,
     "grade_id": "q6bt2",
     "locked": true,
     "points": 4,
     "schema_version": 1,
     "solution": false
    }
   },
   "outputs": [],
   "source": [
    "# Check that the backwards Euler solution correct\n",
    "assert(np.abs(ube[-1]-24027.2866541) < 240.0)"
   ]
  },
  {
   "cell_type": "markdown",
   "metadata": {
    "deletable": false,
    "editable": false,
    "nbgrader": {
     "checksum": "efe89dc1f307e2407afde62827a1c1b8",
     "grade": false,
     "grade_id": "q6c",
     "locked": true,
     "schema_version": 1,
     "solution": false
    }
   },
   "source": [
    "**Part 7: Runge-Kutta method**\n",
    "A third scheme that we will consider belongs to a family of numerical integration schemes called Runge-Kutta methods. This one is referred to as a second-order Runge-Kutta scheme. This scheme involves taking a `half-step', then approximating the derivative at the midpoint between $t^{n-1}$ and $t^{n}$ and using this derivative to calculate the new value of $u^n$.\n",
    "$$\\begin{equation}\n",
    "u^*=u^{n-1} + \\frac{k}{2}f(u^{n-1},t^{n-1})\n",
    "\\end{equation}$$\n",
    "\n",
    "$$\\begin{equation}\n",
    "u^{n}=u^{n-1} + k f(u^*,t^{n-1/2})\n",
    "\\end{equation}$$\n",
    "Note that what we are doing in equation here is to approximate the value of $u$ at the midpoint between time $t^{n-1}$ and $t^{n}$ using the Forward Euler method. In the second step, we approximate the derivative $\\frac{d u}{dt}$ by evaluating $f(t,u(t))$ using the value of $u$ calculated at $t^{n-1/2}=t^n-k/2$. This method is $explicit$ and hence does not require solving an equation involving $f$.\n",
    "\n",
    "Write code to create a vector called `urk` with the same dimensions as the time vector and populate it a numerical solution obtained using the Runge-Kutta method:"
   ]
  },
  {
   "cell_type": "code",
   "execution_count": null,
   "metadata": {
    "deletable": false,
    "editable": true,
    "nbgrader": {
     "checksum": "2b822757da662c272e3527102b943c80",
     "grade": true,
     "grade_id": "q7a1",
     "locked": false,
     "points": 5,
     "schema_version": 1,
     "solution": true
    }
   },
   "outputs": [],
   "source": [
    "# YOUR CODE HERE\n",
    "raise NotImplementedError()"
   ]
  },
  {
   "cell_type": "code",
   "execution_count": null,
   "metadata": {
    "deletable": false,
    "editable": false,
    "nbgrader": {
     "checksum": "75b0b14f61fde019bc15b0111eab16a7",
     "grade": true,
     "grade_id": "q7at1",
     "locked": true,
     "points": 4,
     "schema_version": 1,
     "solution": false
    }
   },
   "outputs": [],
   "source": [
    "# Check that the backwards Euler solution correct\n",
    "assert(np.abs(urk[-1])-20366.5295543 < 5.0)"
   ]
  },
  {
   "cell_type": "markdown",
   "metadata": {
    "deletable": false,
    "editable": false,
    "nbgrader": {
     "checksum": "7bf25afb09c52272a5d065e121c734f9",
     "grade": false,
     "grade_id": "q7",
     "locked": true,
     "schema_version": 1,
     "solution": false
    }
   },
   "source": [
    "**Part 8** Make a plot showing all four solutions (uexact, ufe, ube, and urk) with distinct line styles. Include a legend and, as always, label your axes appropriately."
   ]
  },
  {
   "cell_type": "code",
   "execution_count": null,
   "metadata": {
    "deletable": false,
    "editable": true,
    "nbgrader": {
     "checksum": "4dbe59a424211be73f1d971404a87cb3",
     "grade": true,
     "grade_id": "q7a1a",
     "locked": false,
     "points": 5,
     "schema_version": 1,
     "solution": true
    }
   },
   "outputs": [],
   "source": [
    "# YOUR CODE HERE\n",
    "raise NotImplementedError()"
   ]
  },
  {
   "cell_type": "markdown",
   "metadata": {
    "deletable": false,
    "editable": false,
    "nbgrader": {
     "checksum": "077b7b059c34a60844bcd349b1166fcc",
     "grade": false,
     "grade_id": "q8",
     "locked": true,
     "schema_version": 1,
     "solution": false
    }
   },
   "source": [
    "**Part 9** \n",
    "For each scheme (Forward Euler, Backward Euler, and Runge-Kutta), **calculate and print** the relative error. One measure of the relative error is given by the 2-norm:\n",
    "$$\\begin{equation}\n",
    "\\epsilon_2 = \\frac{||u-u_{exact}||_2}{||u_{exact}||_2}\n",
    "\\end{equation}$$\n",
    "Here, $||\\cdot ||_2$ denotes the 2-norm. For a vector $\\underline{v}$ of $n$ elements, the 2-norm is defined as\n",
    "$$\\begin{equation}\n",
    "||\\underline{v}||_2 = \\sqrt{\\sum_{i=1}^n v_i^2}\n",
    "\\end{equation}$$\n",
    "Note that there is a built-in numpy function called `numpy.linalg.norm` that can calculate vector norms for you."
   ]
  },
  {
   "cell_type": "code",
   "execution_count": null,
   "metadata": {
    "deletable": false,
    "editable": true,
    "nbgrader": {
     "checksum": "99523c45be7c07976bbe631b4907e19b",
     "grade": true,
     "grade_id": "q8a1",
     "locked": false,
     "points": 4,
     "schema_version": 1,
     "solution": true
    }
   },
   "outputs": [],
   "source": [
    "# YOUR CODE HERE\n",
    "raise NotImplementedError()"
   ]
  },
  {
   "cell_type": "markdown",
   "metadata": {
    "deletable": false,
    "editable": false,
    "nbgrader": {
     "checksum": "c3354c9febb9d9384f06c80be6bd606a",
     "grade": false,
     "grade_id": "q8p2",
     "locked": true,
     "schema_version": 1,
     "solution": false
    }
   },
   "source": [
    "Which scheme is most accurate when using 20 timesteps? Which is least accurate?"
   ]
  },
  {
   "cell_type": "markdown",
   "metadata": {
    "deletable": false,
    "editable": true,
    "nbgrader": {
     "checksum": "ee7b94dd8e4f51eca9b757de5286c4e6",
     "grade": true,
     "grade_id": "q8q2",
     "locked": false,
     "points": 2,
     "schema_version": 1,
     "solution": true
    }
   },
   "source": [
    "YOUR ANSWER HERE"
   ]
  },
  {
   "cell_type": "markdown",
   "metadata": {
    "deletable": false,
    "editable": false,
    "nbgrader": {
     "checksum": "1e0a2d09a64d88cc64b1e0e8b1431055",
     "grade": false,
     "grade_id": "q9p1",
     "locked": true,
     "schema_version": 1,
     "solution": false
    }
   },
   "source": [
    "**Part 10:**\n",
    "Try changing the number of time steps nt=(10,100,1000,10000), and calculate the relative error (Part 9) for each choice of the time step. Make a **log-log** plot showing the size of the timestep taken on the horizontal axis and the relative error on the vertical axis. Plot the relative error for each scheme using a different choice of line color or symbol (i.e. you should have one line for the Runge-Kutta scheme, one line for the Forward Euler scheme, and one line for the Backward Euler Scheme). Note - you will have to either run your code above repeatedly with different values of `nt` (either in a separate notebook or this one) and make a data table containing the relative error values, OR you can write a more complicated `for` loop that iterates over all of the choices of time step and makes the plot, all in one go."
   ]
  },
  {
   "cell_type": "code",
   "execution_count": null,
   "metadata": {
    "deletable": false,
    "editable": true,
    "nbgrader": {
     "checksum": "80e48b27a000cb28209a40bd2ee7540d",
     "grade": true,
     "grade_id": "q9a1",
     "locked": false,
     "points": 10,
     "schema_version": 1,
     "solution": true
    }
   },
   "outputs": [],
   "source": [
    "# YOUR CODE HERE\n",
    "raise NotImplementedError()"
   ]
  },
  {
   "cell_type": "markdown",
   "metadata": {
    "deletable": false,
    "editable": false,
    "nbgrader": {
     "checksum": "e59e08fc9343e75dd27d8beb24a084a3",
     "grade": false,
     "grade_id": "q9p2",
     "locked": true,
     "schema_version": 1,
     "solution": false
    }
   },
   "source": [
    "Which numerical integration method is most accurate?\n",
    "\n",
    "For which method(s) does the error decrease most quickly with decreasing step size?\n",
    "\n",
    "For which method(s) does the error decrease least quickly with decreasing step size?"
   ]
  },
  {
   "cell_type": "markdown",
   "metadata": {
    "deletable": false,
    "editable": true,
    "nbgrader": {
     "checksum": "faf1b22fa5a42344d3b1bbf8858cad0f",
     "grade": true,
     "grade_id": "q9p2a",
     "locked": false,
     "points": 3,
     "schema_version": 1,
     "solution": true
    }
   },
   "source": [
    "YOUR ANSWER HERE"
   ]
  },
  {
   "cell_type": "markdown",
   "metadata": {
    "deletable": false,
    "editable": false,
    "nbgrader": {
     "checksum": "919c5c0cefda21668c2ef0280018b04b",
     "grade": false,
     "grade_id": "bonus1",
     "locked": true,
     "schema_version": 1,
     "solution": false
    }
   },
   "source": [
    "# Bonus Problem (for extra credit):\n",
    "Consider the ODE:\n",
    "\n",
    "$$\\begin{equation}\n",
    "\\frac{du}{dt} = \\cos(2\\pi t)\n",
    "\\end{equation}$$\n",
    "\n",
    "With initial condition $u(0) = 1$. \n",
    "\n",
    "What is the analytic solution to this initial value problem?"
   ]
  },
  {
   "cell_type": "markdown",
   "metadata": {
    "deletable": false,
    "editable": true,
    "nbgrader": {
     "checksum": "417286f36754eaf7a248bcde0e17beb9",
     "grade": true,
     "grade_id": "bonus2",
     "locked": false,
     "points": 2,
     "schema_version": 1,
     "solution": true
    }
   },
   "source": [
    "YOUR ANSWER HERE"
   ]
  },
  {
   "cell_type": "markdown",
   "metadata": {
    "deletable": false,
    "editable": false,
    "nbgrader": {
     "checksum": "b903fb1e66272cf42e2ec2454e3db057",
     "grade": false,
     "grade_id": "bonus3",
     "locked": true,
     "schema_version": 1,
     "solution": false
    }
   },
   "source": [
    "Write a program to solve this ODE using the forward Euler method over the time interval $0\\le t\\le 10$. Explore choices of the timestep such that you take 10,100,1000, and 10000 time-steps between $t=0$ and $t=10$. For each case, plot the exact and numerical solutions using lines that can be distinguished."
   ]
  },
  {
   "cell_type": "code",
   "execution_count": null,
   "metadata": {
    "deletable": false,
    "editable": true,
    "nbgrader": {
     "checksum": "9c10ad33ebeb5a4aee5c0b79a1e0b400",
     "grade": true,
     "grade_id": "bonus4",
     "locked": false,
     "points": 10,
     "schema_version": 1,
     "solution": true
    }
   },
   "outputs": [],
   "source": [
    "# YOUR CODE HERE\n",
    "raise NotImplementedError()"
   ]
  },
  {
   "cell_type": "markdown",
   "metadata": {
    "deletable": false,
    "editable": false,
    "nbgrader": {
     "checksum": "0ee5e14ebe2e4ddd8b584a2c2e767b4d",
     "grade": false,
     "grade_id": "bonus5",
     "locked": true,
     "schema_version": 1,
     "solution": false
    }
   },
   "source": [
    "Describe qualitatively how the numerical and exact solutions differ when you take large timesteps. How small a timestep is necessary to obtain a relative error of less than $10^{-6}$?"
   ]
  },
  {
   "cell_type": "markdown",
   "metadata": {
    "deletable": false,
    "editable": true,
    "nbgrader": {
     "checksum": "f42869af2c00c60b6cc914ecdd1e480f",
     "grade": true,
     "grade_id": "bonus6",
     "locked": false,
     "points": 3,
     "schema_version": 1,
     "solution": true
    }
   },
   "source": [
    "YOUR ANSWER HERE"
   ]
  }
 ],
 "metadata": {
  "kernelspec": {
   "display_name": "Python [default]",
   "language": "python",
   "name": "python3"
  },
  "language_info": {
   "codemirror_mode": {
    "name": "ipython",
    "version": 3
   },
   "file_extension": ".py",
   "mimetype": "text/x-python",
   "name": "python",
   "nbconvert_exporter": "python",
   "pygments_lexer": "ipython3",
   "version": "3.5.3"
  }
 },
 "nbformat": 4,
 "nbformat_minor": 2
}
